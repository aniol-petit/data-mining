{
 "cells": [
  {
   "cell_type": "markdown",
   "metadata": {},
   "source": [
    "# Practice PS07: Outlier analysis\n",
    "<font size=\"+2\" color=\"blue\">Additional results: faster method to find all depths</font>"
   ]
  },
  {
   "cell_type": "markdown",
   "metadata": {},
   "source": [
    "Author: <font color=\"blue\">Aniol Petit</font>\n",
    "\n",
    "E-mail: <font color=\"blue\">aniol.petit01@estudiant.upf.edu</font>\n",
    "\n",
    "Date: <font color=\"blue\">14/11/2024</font>"
   ]
  },
  {
   "cell_type": "code",
   "execution_count": null,
   "metadata": {},
   "outputs": [],
   "source": [
    "import pandas as pd\n",
    "import matplotlib.pyplot as plt\n",
    "import csv\n",
    "import io\n",
    "import random\n",
    "import numpy as np"
   ]
  },
  {
   "cell_type": "markdown",
   "metadata": {},
   "source": [
    "# 1. Dataset"
   ]
  },
  {
   "cell_type": "code",
   "execution_count": null,
   "metadata": {},
   "outputs": [],
   "source": [
    "# LEAVE AS-IS\n",
    "\n",
    "df = pd.read_csv('annthyroid.csv', sep=',')\n",
    "\n",
    "# Replace the \"label\" column by an \"abnormal\" column\n",
    "df['result'] = df['label'].apply(lambda x: 'abnormal' if x == 1 else 'normal')\n",
    "df.drop(columns=['label'], inplace=True)"
   ]
  },
  {
   "cell_type": "markdown",
   "metadata": {},
   "source": [
    "<font size=\"+1\" color=\"red\">Replace this cell with your code to print the number and percentages of patients in each group.</font>"
   ]
  },
  {
   "cell_type": "code",
   "execution_count": null,
   "metadata": {},
   "outputs": [],
   "source": [
    "total = len(df)\n",
    "print(f\"Total patients: {total}\")\n",
    "normal = len(df[df[\"result\"]==\"normal\"])\n",
    "print(f\"Normal thyroid: {normal} ({round((normal/total)*100, 2)}%)\")\n",
    "abnormal = len(df[df[\"result\"]==\"abnormal\"])\n",
    "print(f\"Normal thyroid: {abnormal} ({round((abnormal/total)*100, 2)}%)\")"
   ]
  },
  {
   "cell_type": "markdown",
   "metadata": {},
   "source": [
    "<font size=\"+1\" color=\"red\">Replace this cell with your code to print the 10 normal exams and the centroid of all normal exams, and the first 10 abnormal exams and the centroid of all abnormal exams.</font>"
   ]
  },
  {
   "cell_type": "code",
   "execution_count": null,
   "metadata": {},
   "outputs": [],
   "source": [
    "normal_exams = df[df[\"result\"] == \"normal\"]\n",
    "print(\"First 10 normal exams:\")\n",
    "display(normal_exams.head(10))\n",
    "\n",
    "abnormal_exams = df[df[\"result\"] == \"abnormal\"]\n",
    "print(\"First 10 abnormal exams:\")\n",
    "display(abnormal_exams.head(10))\n",
    "\n",
    "normal_centroid = normal_exams.drop(columns=[\"result\"]).mean()\n",
    "print(f\"Centroid of a normal exam: \\n{normal_centroid}\\n\")\n",
    "\n",
    "abnormal_centroid = abnormal_exams.drop(columns=[\"result\"]).mean()\n",
    "print(f\"Centroid of an abnormal exam: \\n{abnormal_centroid}\")"
   ]
  },
  {
   "cell_type": "markdown",
   "metadata": {},
   "source": [
    "<font size=\"+1\" color=\"red\">Replace this cell with a brief comment indicating, based only on the centroids, which features do you think could be useful for differentiating between normal and abnormal thyroids? Why?</font>"
   ]
  },
  {
   "cell_type": "code",
   "execution_count": null,
   "metadata": {},
   "outputs": [],
   "source": [
    "mean_differences = abs(normal_centroid - abnormal_centroid)\n",
    "print(mean_differences)"
   ]
  },
  {
   "cell_type": "markdown",
   "metadata": {},
   "source": [
    "Based on the centroid values for normal and abnormal exams, we can see some differences in certain features mean value that lead us to thinking that they can be relevant for differentiating normal from abnormal exams. In this case, these features would be **f1**, **f2**, **f4** and **f6**. These differences, although they are not very big, they are quite more significant than in the rest of features, which tells us that they can help us tell the result of an exam. The most relevant among these would be **f6**."
   ]
  },
  {
   "cell_type": "markdown",
   "metadata": {},
   "source": [
    "<font size=\"+1\" color=\"red\">Replace this cell with your code to create a scatter matrix as described above.</font>"
   ]
  },
  {
   "cell_type": "code",
   "execution_count": null,
   "metadata": {},
   "outputs": [],
   "source": [
    "color_code = {'abnormal': 'red', 'normal': 'blue'}\n",
    "colors = df['result'].apply(lambda x: color_code[x])\n",
    "plt.figure(figsize=(12, 12))  # Set the figure size\n",
    "pd.plotting.scatter_matrix(df, c=colors, figsize=(12, 12))\n",
    "plt.suptitle(\"Scatter Matrix of Thyroid Exam Features\", size=16)\n",
    "plt.show()"
   ]
  },
  {
   "cell_type": "markdown",
   "metadata": {},
   "source": [
    "<font size=\"+1\" color=\"red\">Replace this cell with a brief commentary on whether you already guess any difference between normal and abnormal exams, based on combinations of features. What are the differences you can appreciate?</font>"
   ]
  },
  {
   "cell_type": "markdown",
   "metadata": {},
   "source": [
    "In combinations like (f1, f2), (f1, f4), and (f1, f6), there is a noticeable separation between the red (abnormal) and blue (normal) points. Abnormal exams tend to cluster differently in these dimensions, often forming smaller, distinct groups away from the main cluster of normal exams.\n",
    "\n",
    "Abnormal exams (red points) appear to fall toward the edges of the feature distributions in several plots, especially in features like f2 and f3. This suggests that these features might have threshold values or unusual ranges that indicate abnormality.\n",
    "\n",
    "Normal exams (blue points) tend to form larger, denser clusters in most plots, suggesting they occupy a more consistent range across multiple features, whereas abnormal exams have more variation and outliers across different dimensions."
   ]
  },
  {
   "cell_type": "markdown",
   "metadata": {},
   "source": [
    "# 1. Create isolation tree"
   ]
  },
  {
   "cell_type": "markdown",
   "metadata": {},
   "source": [
    "## 1.1. Random dimension and random split"
   ]
  },
  {
   "cell_type": "markdown",
   "metadata": {},
   "source": [
    "<font size=\"+1\" color=\"red\">Replace this cell with code implementing \"pick_random_dimension\" and a couple of calls to this function.</font>"
   ]
  },
  {
   "cell_type": "code",
   "execution_count": null,
   "metadata": {},
   "outputs": [],
   "source": [
    "def pick_random_dimension(df, columns_to_ignore):\n",
    "    available_columns = [col for col in df.columns if col not in columns_to_ignore]     \n",
    "    return random.choice(available_columns)\n",
    "\n",
    "columns_to_ignore = ['id',\n",
    "                     'result']\n",
    "test1 = pick_random_dimension(df, columns_to_ignore)\n",
    "test2 = pick_random_dimension(df, columns_to_ignore)\n",
    "print(f\"Test 1: {test1}\")\n",
    "print(f\"Test 2: {test2}\")"
   ]
  },
  {
   "cell_type": "markdown",
   "metadata": {},
   "source": [
    "<font size=\"+1\" color=\"red\">Replace this cell with code implementing \"pick_random_split\" and a couple of calls to test this function; each call should return a random split point chosen uniformly at random between the minimum and the maximum value along a dimension.</font>"
   ]
  },
  {
   "cell_type": "code",
   "execution_count": null,
   "metadata": {},
   "outputs": [],
   "source": [
    "def pick_random_split(df, dimension):\n",
    "    min_value = np.min(df[dimension])\n",
    "    max_value = np.max(df[dimension])\n",
    "    return random.uniform(min_value, max_value)\n",
    "\n",
    "test1 = pick_random_split(df, \"f2\")\n",
    "test2 = pick_random_split(df, \"f6\")\n",
    "print(f\"Test 1: {test1}\")\n",
    "print(f\"Test 2: {test2}\")"
   ]
  },
  {
   "cell_type": "markdown",
   "metadata": {},
   "source": [
    "## 1.2. Implement split data into two"
   ]
  },
  {
   "cell_type": "markdown",
   "metadata": {},
   "source": [
    "<font size=\"+1\" color=\"red\">Replace this cell with code implementing \"split_dataset\".</font>"
   ]
  },
  {
   "cell_type": "code",
   "execution_count": null,
   "metadata": {},
   "outputs": [],
   "source": [
    "def split_dataset(df, dimension, split):\n",
    "    smaller_df = df[df[dimension] <= split]\n",
    "    greater_df = df[df[dimension] > split]\n",
    "    return smaller_df, greater_df"
   ]
  },
  {
   "cell_type": "markdown",
   "metadata": {},
   "source": [
    "<font size=\"+1\" color=\"red\">Replace this cell with code testing \"split_dataset\", i.e., select a dimension and a cut-off and split the dataset, then print the two pieces and check that it is working correctly. Also check that the sum of the sizes of the two pieces is the size of the original data.</font>"
   ]
  },
  {
   "cell_type": "code",
   "execution_count": null,
   "metadata": {},
   "outputs": [],
   "source": [
    "dimension = 'f1'\n",
    "split = pick_random_split(df, dimension)\n",
    "subset_less_equal, subset_greater = split_dataset(df, dimension, split)\n",
    "\n",
    "print(f\"Selected dimension: {dimension}\")\n",
    "print(f\"Split point: {split}\")\n",
    "print(\"\\nSubset with dimension <= split:\")\n",
    "display(subset_less_equal)\n",
    "print(\"\\nSubset with dimension > split:\")\n",
    "display(subset_greater)\n",
    "\n",
    "original_size = len(df)\n",
    "subset_sizes_sum = len(subset_less_equal) + len(subset_greater)\n",
    "\n",
    "print(f\"\\nOriginal dataset size: {original_size}\")\n",
    "print(f\"Sum of sizes of the two subsets: {len(subset_less_equal)} + {len(subset_greater)} = {subset_sizes_sum}\")\n",
    "print(\"Test passed!\" if original_size == subset_sizes_sum else \"Test failed!\")"
   ]
  },
  {
   "cell_type": "markdown",
   "metadata": {},
   "source": [
    "## 1.3. Create one isolation tree"
   ]
  },
  {
   "cell_type": "code",
   "execution_count": null,
   "metadata": {},
   "outputs": [],
   "source": [
    "# LEAVE AS-IS\n",
    "\n",
    "dfi = df.copy()\n",
    "dfi.insert(0, 'id', [(\"P%.4d\" % x) for x in range(1, 1 + len(df))])\n",
    "dfi"
   ]
  },
  {
   "cell_type": "markdown",
   "metadata": {},
   "source": [
    "<font size=\"+1\" color=\"red\">Replace this cell with you code implementing \"isolation_tree\".</font>"
   ]
  },
  {
   "cell_type": "code",
   "execution_count": null,
   "metadata": {},
   "outputs": [],
   "source": [
    "def isolation_tree(data, columns_to_ignore, min_items):\n",
    "    tree = {}\n",
    "    if len(data) <= min_items:\n",
    "        return {\"contents\": data}\n",
    "    else:\n",
    "        dimension = pick_random_dimension(data, columns_to_ignore) \n",
    "        split = pick_random_split(data, dimension)\n",
    "        left_data, right_data = split_dataset(data, dimension, split)\n",
    "        left = isolation_tree(left_data, columns_to_ignore, min_items)\n",
    "        right = isolation_tree(right_data, columns_to_ignore, min_items)\n",
    "        tree = {\"left\": left, \"right\": right, \"dimension\": dimension, \"split\": split}\n",
    "        return tree  "
   ]
  },
  {
   "cell_type": "code",
   "execution_count": null,
   "metadata": {},
   "outputs": [],
   "source": [
    "# LEAVE AS-IS\n",
    "\n",
    "mytree = isolation_tree(dfi, ['id', 'result'], 2000)"
   ]
  },
  {
   "cell_type": "code",
   "execution_count": null,
   "metadata": {},
   "outputs": [],
   "source": [
    "# LEAVE AS-IS\n",
    "\n",
    "class tree_drawing(object):\n",
    "    def __init__(self, value, left=None, right=None):\n",
    "        self.value = value\n",
    "        self.left = left\n",
    "        self.right = right\n",
    "\n",
    "    def __str__(self, label='', level=0):\n",
    "        ret = \"-\" * level + label + \":\" + repr(self.value)+\"\\n\"\n",
    "        if self.left:\n",
    "            ret += self.left.__str__(\"<\", level+1)\n",
    "        if self.right:\n",
    "            ret += self.right.__str__(\">\", level+1)\n",
    "        return ret\n",
    "\n",
    "    def __repr__(self):\n",
    "        return self.value\n",
    "    \n",
    "def tree_to_nodes(tree):\n",
    "    if 'contents' in tree:\n",
    "        data = tree['contents']\n",
    "        normal_count = len(data[data['result'] == 'normal'])\n",
    "        abnormal_count = len(data[data['result'] == 'abnormal'])\n",
    "        description = \"external node: %d normal + %d abnormal\" % (normal_count, abnormal_count)\n",
    "        return tree_drawing(description)\n",
    "    else:\n",
    "        left = tree['left']\n",
    "        right = tree['right']\n",
    "        description = 'internal node: ' + tree['dimension'] + ' <= ' + (\"%.2f\" % tree['split'])\n",
    "        n = tree_drawing(description, tree_to_nodes(left), tree_to_nodes(right) )\n",
    "        return n"
   ]
  },
  {
   "cell_type": "code",
   "execution_count": null,
   "metadata": {},
   "outputs": [],
   "source": [
    "print(tree_to_nodes(mytree))"
   ]
  },
  {
   "cell_type": "markdown",
   "metadata": {},
   "source": [
    "<font size=\"+1\" color=\"red\">Replace this cell with you code implementing `get_max_tree_depth`</font>"
   ]
  },
  {
   "cell_type": "code",
   "execution_count": null,
   "metadata": {},
   "outputs": [],
   "source": [
    "def get_max_tree_depth(tree):\n",
    "    if \"contents\" in tree:\n",
    "        return 1\n",
    "    left_depth = get_max_tree_depth(tree[\"left\"])\n",
    "    right_depth = get_max_tree_depth(tree[\"right\"])\n",
    "    return 1 + max(left_depth, right_depth)\n"
   ]
  },
  {
   "cell_type": "markdown",
   "metadata": {},
   "source": [
    "<font size=\"+1\" color=\"red\">Replace this cell with you code testing `get_max_tree_depth` on `mytree`.</font>"
   ]
  },
  {
   "cell_type": "code",
   "execution_count": null,
   "metadata": {},
   "outputs": [],
   "source": [
    "max_depth = get_max_tree_depth(mytree)\n",
    "print(f\"Maximum depth of the isolation tree: {max_depth}\")"
   ]
  },
  {
   "cell_type": "markdown",
   "metadata": {},
   "source": [
    "## 2.1. Create an isolation forest"
   ]
  },
  {
   "cell_type": "markdown",
   "metadata": {},
   "source": [
    "<font size=\"+1\" color=\"red\">Replace this cell with you code implementing \"isolation_tree\".</font>"
   ]
  },
  {
   "cell_type": "code",
   "execution_count": null,
   "metadata": {},
   "outputs": [],
   "source": [
    "def isolation_forest(dfi, columns_to_ignore, min_items, num_trees):\n",
    "    trees = []\n",
    "    for _ in range(num_trees):\n",
    "        trees.append(isolation_tree(dfi, columns_to_ignore, min_items))\n",
    "    return trees"
   ]
  },
  {
   "cell_type": "code",
   "execution_count": null,
   "metadata": {},
   "outputs": [],
   "source": [
    "# MODIFY IF YOU SEE THAT IT IMPROVES THE SEPARATION BETWEEN CLASSES\n",
    "\n",
    "min_items = 50\n",
    "num_trees = 20"
   ]
  },
  {
   "cell_type": "code",
   "execution_count": null,
   "metadata": {},
   "outputs": [],
   "source": [
    "# LEAVE AS-IS\n",
    "\n",
    "myforest = isolation_forest(dfi, ['id', 'result'], min_items, num_trees)\n",
    "print(\"The forest has %d trees\" % len(myforest))"
   ]
  },
  {
   "cell_type": "code",
   "execution_count": null,
   "metadata": {},
   "outputs": [],
   "source": [
    "# LEAVE AS-IS\n",
    "\n",
    "for i in range(0, 2):\n",
    "    print(\"Tree number %d\" % i)\n",
    "    print(tree_to_nodes(myforest[i]))\n",
    "    print()"
   ]
  },
  {
   "cell_type": "markdown",
   "metadata": {},
   "source": [
    "## 2.2. Find the average depth of an item"
   ]
  },
  {
   "cell_type": "code",
   "execution_count": null,
   "metadata": {},
   "outputs": [],
   "source": [
    "# LEAVE AS-IS\n",
    "\n",
    "def find_element_depth_aux(tree, column_name, column_value, depth):\n",
    "    \n",
    "    if 'contents' in tree:\n",
    "        # We are in a leaf node\n",
    "        \n",
    "        data = tree['contents']\n",
    "        matching = data[data[column_name] == column_value]\n",
    "        if len(matching) == 0:\n",
    "            return None\n",
    "        elif len(matching) > 1:\n",
    "            print(\"Error: multiple elements match your search criterion\")\n",
    "            return None\n",
    "        else:\n",
    "            return depth\n",
    "    else:\n",
    "        # We are in an internal node\n",
    "        \n",
    "        in_left = find_element_depth_aux(tree['left'], column_name, column_value, depth+1)\n",
    "        if in_left == None:\n",
    "            in_right = find_element_depth_aux(tree['right'], column_name, column_value, depth+1)\n",
    "            return in_right\n",
    "        else:\n",
    "            return in_left\n",
    "        \n",
    "def find_element_depth(tree, column_name, column_value):\n",
    "    return find_element_depth_aux(tree, column_name, column_value, 0)"
   ]
  },
  {
   "cell_type": "code",
   "execution_count": null,
   "metadata": {},
   "outputs": [],
   "source": [
    "# LEAVE AS-IS\n",
    "\n",
    "def print_sample_depths(df, sample_size, tested_tree):\n",
    "\n",
    "    for result in ['normal', 'abnormal']:\n",
    "        print(\"Depths for %s items\" % result)\n",
    "\n",
    "        sample = list(df[df['result'] == result]['id'].sample(sample_size))\n",
    "\n",
    "        max_depth = get_max_tree_depth(tested_tree)\n",
    "        for random_id in sample:\n",
    "            print(\"- id=%s is at depth %d/%d\" % (random_id, find_element_depth(tested_tree, \"id\", random_id), max_depth))\n",
    "            \n",
    "    \n",
    "print(\"On shallow tree, having maximum depth %d\" % get_max_tree_depth(mytree))\n",
    "print_sample_depths(dfi, 5, mytree)\n",
    "print()\n",
    "\n",
    "print(\"On first tree of forest, having maximum depth %d\" % get_max_tree_depth(myforest[0]))\n",
    "print_sample_depths(dfi, 5, myforest[0])\n",
    "print()\n"
   ]
  },
  {
   "cell_type": "markdown",
   "metadata": {},
   "source": [
    "<font size=\"+1\" color=\"red\">Replace this cell with a brief commentary on these depths.</font>"
   ]
  },
  {
   "cell_type": "markdown",
   "metadata": {},
   "source": [
    "**Shallow Tree (Max Depth: 16):**\n",
    "Normal items tend to have relatively deep depths (ranging from 4 to 13), which suggests that normal data points are more spread out across the tree and may require more splits to isolate them.\n",
    "Abnormal items, on the other hand, are often found at shallower depths (ranging from 2 to 10). This indicates that abnormal points tend to be isolated faster, as the isolation tree's purpose is to split off anomalies quickly with fewer decisions.\n",
    "\n",
    "**First Tree in the Isolation Forest (Max Depth: 43):**\n",
    "Normal items in the first tree also exhibit a wider range of depths (from 16 to 27), with some items being deep in the tree, suggesting more complex splits for normal cases.\n",
    "Abnormal items show more variation in their depths, but still tend to be isolated at lower depths (3 to 16). This continues to reinforce the idea that anomalies are generally isolated earlier (with fewer splits) compared to normal instances."
   ]
  },
  {
   "cell_type": "markdown",
   "metadata": {},
   "source": [
    "<font size=\"+1\" color=\"red\">Replace this cell with you code implementing \"find_average_depth\".</font>"
   ]
  },
  {
   "cell_type": "code",
   "execution_count": null,
   "metadata": {},
   "outputs": [],
   "source": [
    "def find_average_depth(forest, column_name, value):\n",
    "    depths = []\n",
    "    \n",
    "    for tree in forest:\n",
    "        depth = find_element_depth(tree, column_name, value)\n",
    "        if depth is not None:  # If the element exists in the tree\n",
    "            depths.append(depth)\n",
    "    \n",
    "    if len(depths) == 0:\n",
    "        return None  # Element not found in any tree\n",
    "    else:\n",
    "        return sum(depths) / len(depths) "
   ]
  },
  {
   "cell_type": "code",
   "execution_count": null,
   "metadata": {},
   "outputs": [],
   "source": [
    "# LEAVE AS-IS\n",
    "\n",
    "for result in ['normal', 'abnormal']:\n",
    "    print(\"Average depths for %s items\" % result)\n",
    "    \n",
    "    sample = list(dfi[dfi['result'] == result]['id'].sample(5))\n",
    "    \n",
    "    for random_id in sample:\n",
    "        print(\"- id=%s is at average depth %.1f\" % (random_id, find_average_depth(myforest, \"id\", random_id)))\n",
    "    \n",
    "    print()"
   ]
  },
  {
   "cell_type": "markdown",
   "metadata": {},
   "source": [
    "<font size=\"+1\" color=\"red\">Replace this cell with a brief commentary indicating how would you make the \"find_average_depth\" function more efficient if you wanted to obtain the average depth of **all** elements. Be concise but be precise, providing pseudocode if you consider it clearer than a text explanation.</font>"
   ]
  },
  {
   "cell_type": "markdown",
   "metadata": {},
   "source": [
    "To make the find_average_depth function more efficient for obtaining the average depth of all elements (rather than just one element), we can modify the approach to process all unique elements in the dataset, calculating their average depth across the trees in the forest.\n",
    "Instead of calculating the depth for each element in each tree separately, we can first traverse the dataset to collect the unique values for the column_name, and then calculate the average depth for all elements in the forest at once."
   ]
  },
  {
   "cell_type": "markdown",
   "metadata": {},
   "source": [
    "# 3. Find the average depth of a sample of normal and abnormal points"
   ]
  },
  {
   "cell_type": "markdown",
   "metadata": {},
   "source": [
    "## 3.1. Determine average depths"
   ]
  },
  {
   "cell_type": "code",
   "execution_count": null,
   "metadata": {},
   "outputs": [],
   "source": [
    "# LEAVE AS-IS\n",
    "\n",
    "abnormal_point_ids = list(dfi[dfi['result'] == 'abnormal']['id'].sample(30))\n",
    "normal_point_ids = list(dfi[dfi['result'] == 'normal']['id'].sample(30))\n",
    "\n",
    "print(\"Normal point sample ids   : %s\" % normal_point_ids)\n",
    "print(\"Abnormal point sample ids : %s\" % abnormal_point_ids)"
   ]
  },
  {
   "cell_type": "code",
   "execution_count": null,
   "metadata": {},
   "outputs": [],
   "source": [
    "# LEAVE AS-IS\n",
    "\n",
    "normal_depths = []\n",
    "print(\"Depths of items in the 'normal' sample:\")\n",
    "for i in normal_point_ids:\n",
    "    depth = find_average_depth(myforest, 'id', i)\n",
    "    normal_depths.append(depth)\n",
    "    print(\" element id=%s is at average depth %.2f\" % (i, depth))\n",
    "print()"
   ]
  },
  {
   "cell_type": "code",
   "execution_count": null,
   "metadata": {},
   "outputs": [],
   "source": [
    "# LEAVE AS-IS\n",
    "\n",
    "abnormal_depths = []\n",
    "print(\"Depths of items in the 'abnormal' sample:\")\n",
    "for i in abnormal_point_ids:\n",
    "    depth = find_average_depth(myforest, 'id', i)\n",
    "    abnormal_depths.append(depth)\n",
    "    print(\" element id=%s is at average depth %.2f\" % (i, depth))\n",
    "print()"
   ]
  },
  {
   "cell_type": "code",
   "execution_count": null,
   "metadata": {},
   "outputs": [],
   "source": [
    "# LEAVE AS-IS\n",
    "\n",
    "plt.figure(figsize=(12,4))\n",
    "plt.hist(normal_depths, label='Normal', bins=15, density=False, histtype='step', color='blue')\n",
    "plt.hist(abnormal_depths, label='Abnormal', bins=15, density=False, histtype='step', color='red')\n",
    "plt.xlabel('Average depth in the isolation forest')\n",
    "plt.ylabel('Frequency')\n",
    "plt.legend()\n",
    "plt.show()"
   ]
  },
  {
   "cell_type": "markdown",
   "metadata": {},
   "source": [
    "<font size=\"+1\" color=\"red\">Replace this cell with a brief commentary of what you see in this histogram.</font>"
   ]
  },
  {
   "cell_type": "markdown",
   "metadata": {},
   "source": [
    "Both normal and abnormal items span a similar range of depths, especially in the mid-range (approximately 10-20), with significant overlap. This overlap suggests that depth alone does not perfectly distinguish between normal and abnormal exams, indicating that some abnormal exams have similar average depths to normal ones, and vice versa.\n",
    "\n",
    "The abnormal items show a higher frequency at shallower depths (around 5-15). Shallower depths imply higher isolation (i.e., more outlier-like behavior), which aligns with the expectation that abnormal items might be isolated earlier in the forest.\n",
    "\n",
    "The normal items are more frequently found at deeper depths, particularly beyond 20. This is consistent with the intuition that normal items blend more with the rest of the dataset, requiring more splits to isolate them."
   ]
  },
  {
   "cell_type": "markdown",
   "metadata": {},
   "source": [
    "## 3.2. Compute outlier scores and conclude"
   ]
  },
  {
   "cell_type": "code",
   "execution_count": null,
   "metadata": {},
   "outputs": [],
   "source": [
    "# LEAVE AS-IS\n",
    "\n",
    "# Source: https://stackoverflow.com/a/27683292/1235784\n",
    "\n",
    "from numpy import euler_gamma\n",
    "from scipy.special import digamma\n",
    "def harmonic(s):\n",
    "    return digamma(s + 1) + euler_gamma"
   ]
  },
  {
   "cell_type": "code",
   "execution_count": null,
   "metadata": {},
   "outputs": [],
   "source": [
    "# LEAVE AS-IS\n",
    "\n",
    "def outlier_score_factory():\n",
    "    n = len(df.index)\n",
    "    c_n = 2.0 * harmonic(n - 1.0) - (2.0 * (n-1)/n)\n",
    "    return lambda d: 2.0**(-d/c_n)\n",
    "\n",
    "outlier_score = outlier_score_factory()\n",
    "\n",
    "normal_scores = [outlier_score(d) for d in normal_depths]\n",
    "abnormal_scores = [outlier_score(d) for d in abnormal_depths]"
   ]
  },
  {
   "cell_type": "code",
   "execution_count": null,
   "metadata": {},
   "outputs": [],
   "source": [
    "# LEAVE AS-IS\n",
    "\n",
    "plt.figure(figsize=(16,3))\n",
    "\n",
    "# Plot the two histograms; the parameter 'alpha' is the transparency of the bar\n",
    "plt.hist(normal_scores, label='Normal', bins=20, density=False, histtype='step', color='blue', alpha=0.7)\n",
    "plt.hist(abnormal_scores, label='Abnormal', bins=20, density=False, histtype='step', color='red', alpha=0.7)\n",
    "\n",
    "# Draw the axis labels, legend, and display\n",
    "plt.xlabel('Outlier score')\n",
    "plt.ylabel('Frequency')\n",
    "plt.legend()\n",
    "plt.show()"
   ]
  },
  {
   "cell_type": "markdown",
   "metadata": {},
   "source": [
    "<font size=\"+1\" color=\"red\">Replace this cell with a brief commentary of what you see in this histogram.</font>"
   ]
  },
  {
   "cell_type": "markdown",
   "metadata": {},
   "source": [
    "There is some overlap in the outlier scores between normal and abnormal items, particularly in the range from about 0.4 to 0.6. This suggests that some abnormal items are not easily distinguishable from normal items based on outlier score alone.\n",
    "\n",
    "The normal items tend to have a higher frequency of scores around 0.4 to 0.5, whereas abnormal items show a broader spread with several peaks.\n",
    "Abnormal items also extend to higher outlier scores (up to around 0.8), which indicates that they are, on average, more isolated in the trees and thus have higher outlier scores.\n"
   ]
  },
  {
   "cell_type": "markdown",
   "metadata": {},
   "source": [
    "<font size=\"+1\" color=\"red\">Replace this cell with your code to determine an optimal threshold.</font>"
   ]
  },
  {
   "cell_type": "code",
   "execution_count": null,
   "metadata": {},
   "outputs": [],
   "source": [
    "all_scores = normal_scores + abnormal_scores\n",
    "min_score, max_score = min(all_scores), max(all_scores)\n",
    "\n",
    "thresholds = np.linspace(min_score, max_score, 100)\n",
    "\n",
    "best_threshold = None\n",
    "best_accuracy = 0\n",
    "\n",
    "for threshold in thresholds:\n",
    "    normal_pred = [1 if score <= threshold else 0 for score in normal_scores]  \n",
    "    abnormal_pred = [1 if score > threshold else 0 for score in abnormal_scores]  \n",
    "    \n",
    "    true_negatives = sum(normal_pred) \n",
    "    false_positives = len(normal_scores) - true_negatives  \n",
    "    true_positives = sum(abnormal_pred)  \n",
    "    false_negatives = len(abnormal_scores) - true_positives  \n",
    "    \n",
    "    total = len(normal_scores) + len(abnormal_scores)\n",
    "    accuracy = (true_positives + true_negatives) / total\n",
    "    \n",
    "    if accuracy > best_accuracy:\n",
    "        best_accuracy = accuracy\n",
    "        best_threshold = threshold\n",
    "        \n",
    "print(f\"Optimal Threshold: {best_threshold}\")\n",
    "print(f\"Accuracy at Optimal Threshold: {best_accuracy}\")"
   ]
  },
  {
   "cell_type": "markdown",
   "metadata": {},
   "source": [
    "<font size=\"+1\" color=\"red\">Replace this cell with your evaluation of the optimal threshold.</font>"
   ]
  },
  {
   "cell_type": "code",
   "execution_count": null,
   "metadata": {},
   "outputs": [],
   "source": [
    "fpr = false_positives / len(normal_scores)\n",
    "fnr = false_negatives / len(abnormal_scores)\n",
    "print(f\"False Positive Rate (FPR): {fpr:.4f}\")\n",
    "print(f\"False Negative Rate (FNR): {fnr:.4f}\")"
   ]
  },
  {
   "cell_type": "markdown",
   "metadata": {},
   "source": [
    "## EXTRA POINTS"
   ]
  },
  {
   "cell_type": "code",
   "execution_count": null,
   "metadata": {},
   "outputs": [],
   "source": [
    "from collections import defaultdict\n",
    "\n",
    "def find_average_depths(forest, column_name):\n",
    "    # Dictionary to accumulate depths for each element\n",
    "    depths_dict = defaultdict(list)\n",
    "    \n",
    "    # Traverse each tree in the forest\n",
    "    for tree in forest:\n",
    "        def record_depths(node, depth):\n",
    "            if 'contents' in node:\n",
    "                # Leaf node: Record depth for each element in this node\n",
    "                for _, row in node['contents'].iterrows():\n",
    "                    element_id = row[column_name]\n",
    "                    depths_dict[element_id].append(depth)\n",
    "            else:\n",
    "                # Internal node: Recur on both children with increased depth\n",
    "                record_depths(node['left'], depth + 1)\n",
    "                record_depths(node['right'], depth + 1)\n",
    "        \n",
    "        # Start depth recording from the root node\n",
    "        record_depths(tree, 0)\n",
    "    \n",
    "    # Calculate average depths for each element\n",
    "    average_depths = {element_id: sum(depths) / len(depths) for element_id, depths in depths_dict.items()}\n",
    "    return average_depths\n",
    "\n",
    "# Compute average depths for all elements in the dataset\n",
    "average_depths = find_average_depths(myforest, column_name=\"id\")\n",
    "\n",
    "\n",
    "# Separate normal and abnormal scores based on results\n",
    "normal_depths = [average_depths[id] for id in dfi[dfi['result'] == 'normal']['id']]\n",
    "abnormal_depths = [average_depths[id] for id in dfi[dfi['result'] == 'abnormal']['id']]\n",
    "\n",
    "# Calculate outlier scores using the optimized average depths\n",
    "normal_scores = [outlier_score(d) for d in normal_depths]\n",
    "abnormal_scores = [outlier_score(d) for d in abnormal_depths]\n",
    "\n",
    "# Plotting the histogram\n",
    "plt.figure(figsize=(16,3))\n",
    "\n",
    "# Plot the two histograms for all elements\n",
    "plt.hist(normal_scores, label='Normal', bins=20, density=False, histtype='step', color='blue', alpha=0.7)\n",
    "plt.hist(abnormal_scores, label='Abnormal', bins=20, density=False, histtype='step', color='red', alpha=0.7)\n",
    "\n",
    "# Draw the axis labels, legend, and display\n",
    "plt.xlabel('Outlier score')\n",
    "plt.ylabel('Frequency')\n",
    "plt.legend()\n",
    "plt.show()\n"
   ]
  },
  {
   "cell_type": "markdown",
   "metadata": {},
   "source": [
    "<font size=\"+2\" color=\"#003300\">I hereby declare that, except for the code provided by the course instructors, all of my code, report, and figures were produced by myself.</font>"
   ]
  }
 ],
 "metadata": {
  "kernelspec": {
   "display_name": "Python 3 (ipykernel)",
   "language": "python",
   "name": "python3"
  },
  "language_info": {
   "codemirror_mode": {
    "name": "ipython",
    "version": 3
   },
   "file_extension": ".py",
   "mimetype": "text/x-python",
   "name": "python",
   "nbconvert_exporter": "python",
   "pygments_lexer": "ipython3",
   "version": "3.12.3"
  }
 },
 "nbformat": 4,
 "nbformat_minor": 4
}
