{
 "cells": [
  {
   "cell_type": "markdown",
   "metadata": {},
   "source": [
    "# Practice Session 04: Basket analysis"
   ]
  },
  {
   "cell_type": "markdown",
   "metadata": {},
   "source": [
    "Author: <font color=\"blue\">Aniol Petit</font>\n",
    "\n",
    "E-mail: <font color=\"blue\">aniol.petit01@estudiant.upf.edu</font>\n",
    "\n",
    "Date: <font color=\"blue\">15/10/2024</font>"
   ]
  },
  {
   "cell_type": "markdown",
   "metadata": {},
   "source": [
    "<font size=\"+2\" color=\"blue\">Additional results: experiments on cross-department association rules</font>"
   ]
  },
  {
   "cell_type": "code",
   "execution_count": 1,
   "metadata": {},
   "outputs": [
    {
     "name": "stdout",
     "output_type": "stream",
     "text": [
      "Requirement already satisfied: apyori in c:\\users\\usuario\\anaconda3\\lib\\site-packages (1.1.2)\n",
      "Note: you may need to restart the kernel to use updated packages.\n"
     ]
    }
   ],
   "source": [
    "pip install apyori"
   ]
  },
  {
   "cell_type": "code",
   "execution_count": 2,
   "metadata": {},
   "outputs": [],
   "source": [
    "import numpy as np  \n",
    "import matplotlib.pyplot as plt  \n",
    "import pandas as pd  \n",
    "import csv\n",
    "import gzip\n",
    "\n",
    "from apyori import apriori"
   ]
  },
  {
   "cell_type": "markdown",
   "metadata": {},
   "source": [
    "# 1. Playing with apyori"
   ]
  },
  {
   "cell_type": "code",
   "execution_count": 3,
   "metadata": {},
   "outputs": [],
   "source": [
    "# LEAVE AS-IS\n",
    "\n",
    "def print_apyori_output (association_results, info=False, info_key=False):\n",
    "    for relation_record in association_results:\n",
    "        itemset = list(relation_record.items)\n",
    "        \n",
    "        # Consider only itemsets of two elements\n",
    "        if len(itemset) > 1: \n",
    "        \n",
    "            print(\"Rules involving itemset %s\" % itemset)\n",
    "            support = relation_record.support\n",
    "\n",
    "            for rules in relation_record.ordered_statistics:\n",
    "                antecedent = list(rules.items_base)\n",
    "                consequent = list(rules.items_add)\n",
    "                \n",
    "                if info_key:\n",
    "                    antecedent = [info.loc[x][info_key] for x in antecedent]\n",
    "                    consequent = [info.loc[x][info_key] for x in consequent]\n",
    "                \n",
    "                confidence = rules.confidence\n",
    "                lift = rules.lift\n",
    "\n",
    "                print(\"%s => %s (support=%.4f, confidence=%.2f, lift=%.2f)\" %\n",
    "                      (antecedent, consequent, support, confidence, lift))\n",
    "            print()"
   ]
  },
  {
   "cell_type": "markdown",
   "metadata": {},
   "source": [
    "<font size=\"+1\" color=\"red\">Replace this cell with your own example of transactions (at least 20 transactions). Execute the apriori algorithm, in which you should obtain at least <strong>two</strong> rules of the form ['A', 'B'] => ['C'], i.e., at least two rules having a 2-itemset in the antecedent and a 1-itemset in the consequent. Modify the transactions until you obtain such rules.</font>"
   ]
  },
  {
   "cell_type": "code",
   "execution_count": 4,
   "metadata": {},
   "outputs": [],
   "source": [
    "transactions = [['Milk', 'Bread', 'Butter', 'Yogurt'],\n",
    "    ['Milk', 'Eggs', 'Flour'],\n",
    "    ['Bread', 'Butter', 'Eggs'],\n",
    "    ['Bread', 'Eggs', 'Cheese'],\n",
    "    ['Butter', 'Cheese', 'Yogurt'],\n",
    "    ['Milk', 'Bread'],\n",
    "    ['Milk', 'Butter', 'Eggs', 'Flour'],\n",
    "    ['Bread', 'Eggs', 'Yogurt'],\n",
    "    ['Eggs', 'Flour', 'Sugar'],\n",
    "    ['Milk', 'Bread', 'Cheese'],\n",
    "    ['Bread', 'Butter', 'Cheese', 'Eggs', 'Yogurt'],\n",
    "    ['Milk', 'Yogurt', 'Cheese'],\n",
    "    ['Butter', 'Flour'],\n",
    "    ['Eggs', 'Cheese', 'Yogurt'],\n",
    "    ['Milk', 'Butter', 'Sugar'],\n",
    "    ['Bread', 'Yogurt', 'Butter'],\n",
    "    ['Milk', 'Eggs', 'Sugar', 'Cheese'],\n",
    "    ['Butter', 'Eggs'],\n",
    "    ['Bread', 'Eggs', 'Yogurt', 'Butter'],\n",
    "    ['Flour', 'Butter', 'Sugar']]\n",
    "\n"
   ]
  },
  {
   "cell_type": "markdown",
   "metadata": {},
   "source": [
    "<font size=\"+1\" color=\"red\">Replace this cell with a markdown cell containing (1) a printout of the rules you have obtained, and (2) for each of those rules, indicate clearly how the support, confidence, and lift is calculated. Do not merely repeat the formula: indicate how each number is computed based on the transactions you provided, as if you were trying to verify that the numbers are correct.</font>"
   ]
  },
  {
   "cell_type": "code",
   "execution_count": 5,
   "metadata": {},
   "outputs": [
    {
     "name": "stdout",
     "output_type": "stream",
     "text": [
      "Rules involving itemset ['Yogurt', 'Cheese', 'Butter']\n",
      "['Cheese', 'Butter'] => ['Yogurt'] (support=0.1000, confidence=1.00, lift=2.50)\n",
      "\n",
      "Rules involving itemset ['Eggs', 'Flour', 'Milk']\n",
      "['Milk', 'Flour'] => ['Eggs'] (support=0.1000, confidence=1.00, lift=1.82)\n",
      "\n",
      "Rules involving itemset ['Eggs', 'Yogurt', 'Butter', 'Bread']\n",
      "['Eggs', 'Yogurt', 'Butter'] => ['Bread'] (support=0.1000, confidence=1.00, lift=2.22)\n",
      "\n"
     ]
    }
   ],
   "source": [
    "results = list(apriori(transactions, min_support=0.1, min_confidence=0.9, min_lift=1.0))\n",
    "print_apyori_output(results)"
   ]
  },
  {
   "cell_type": "markdown",
   "metadata": {},
   "source": [
    "<b>Rule 1<b>: A = [Cheese, Butter, Yogurt]    B = [Cheese, Butter]    C = [Yogurt]\n",
    "\n",
    "Support(A) = (Transactions containing A) / (Total Transactions) = 2/20 = 0.1\n",
    "\n",
    "Confidence(B-->C) = (Transactions containing both B and C (A)) / (Transactions containing B) = 2/2 = 1\n",
    "\n",
    "lift(B-->C) = (Confidence(B-->C)) / (Support(C)) = 1 / (Transactions containing C) / (Total Transactions) = 1 / (8/20) = 20/8 = 5/2 = 2.5\n",
    "\n",
    "\n",
    "\n",
    "<b>Rule 2<b>: A = [Milk, Flour, Eggs]    B = [Milk, Flour]    C = [Eggs]\n",
    "\n",
    "Support(A) = (Transactions containing A) / (Total Transactions) = 2/20 = 0.1\n",
    "\n",
    "Confidence(B-->C) = (Transactions containing both B and C (A)) / (Transactions containing B) = 2/2 = 1\n",
    "\n",
    "Lift(B-->C) = (Confidence(B-->C)) / (Support(C)) = 1 / (Transactions containing C) / (Total Transactions) = 1 / (11/20) = 20/11 = 1.82\n",
    "\n",
    "\n",
    "\n",
    "<b>Rule 3<b>: A = [Yogurt, Bread, Butter, Eggs]    B = [Yogurt, Butter, Eggs]    C = [Bread]\n",
    "\n",
    "Support(A) = (Transactions containing A) / (Total Transactions) = 2/20 = 0.1\n",
    "\n",
    "Confidence(B-->C) = (Transactions containing both B and C (A)) / (Transactions containing B) = 2/2 = 1\n",
    "\n",
    "Lift(B-->C) = (Confidence(B-->C)) / (Support(C)) = 1 / (Transactions containing C) / (Total Transactions) = 1 / (9/20) = 20/9 = 2.22"
   ]
  },
  {
   "cell_type": "markdown",
   "metadata": {},
   "source": [
    "# 2. Load and prepare the shopping baskets"
   ]
  },
  {
   "cell_type": "code",
   "execution_count": 6,
   "metadata": {},
   "outputs": [
    {
     "data": {
      "text/html": [
       "<div>\n",
       "<style scoped>\n",
       "    .dataframe tbody tr th:only-of-type {\n",
       "        vertical-align: middle;\n",
       "    }\n",
       "\n",
       "    .dataframe tbody tr th {\n",
       "        vertical-align: top;\n",
       "    }\n",
       "\n",
       "    .dataframe thead th {\n",
       "        text-align: right;\n",
       "    }\n",
       "</style>\n",
       "<table border=\"1\" class=\"dataframe\">\n",
       "  <thead>\n",
       "    <tr style=\"text-align: right;\">\n",
       "      <th></th>\n",
       "      <th>product_name</th>\n",
       "      <th>department_id</th>\n",
       "    </tr>\n",
       "    <tr>\n",
       "      <th>product_id</th>\n",
       "      <th></th>\n",
       "      <th></th>\n",
       "    </tr>\n",
       "  </thead>\n",
       "  <tbody>\n",
       "    <tr>\n",
       "      <th>1</th>\n",
       "      <td>Chocolate Sandwich Cookies</td>\n",
       "      <td>19</td>\n",
       "    </tr>\n",
       "    <tr>\n",
       "      <th>2</th>\n",
       "      <td>All-Seasons Salt</td>\n",
       "      <td>13</td>\n",
       "    </tr>\n",
       "    <tr>\n",
       "      <th>3</th>\n",
       "      <td>Robust Golden Unsweetened Oolong Tea</td>\n",
       "      <td>7</td>\n",
       "    </tr>\n",
       "    <tr>\n",
       "      <th>4</th>\n",
       "      <td>Smart Ones Classic Favorites Mini Rigatoni Wit...</td>\n",
       "      <td>1</td>\n",
       "    </tr>\n",
       "    <tr>\n",
       "      <th>5</th>\n",
       "      <td>Green Chile Anytime Sauce</td>\n",
       "      <td>13</td>\n",
       "    </tr>\n",
       "    <tr>\n",
       "      <th>...</th>\n",
       "      <td>...</td>\n",
       "      <td>...</td>\n",
       "    </tr>\n",
       "    <tr>\n",
       "      <th>96</th>\n",
       "      <td>Sprinklez Confetti Fun Organic Toppings</td>\n",
       "      <td>13</td>\n",
       "    </tr>\n",
       "    <tr>\n",
       "      <th>97</th>\n",
       "      <td>Organic Chamomile Lemon Tea</td>\n",
       "      <td>7</td>\n",
       "    </tr>\n",
       "    <tr>\n",
       "      <th>98</th>\n",
       "      <td>2% Yellow American Cheese</td>\n",
       "      <td>16</td>\n",
       "    </tr>\n",
       "    <tr>\n",
       "      <th>99</th>\n",
       "      <td>Local Living Butter Lettuce</td>\n",
       "      <td>4</td>\n",
       "    </tr>\n",
       "    <tr>\n",
       "      <th>100</th>\n",
       "      <td>Peanut Butter &amp; Strawberry Jam Sandwich</td>\n",
       "      <td>1</td>\n",
       "    </tr>\n",
       "  </tbody>\n",
       "</table>\n",
       "<p>100 rows × 2 columns</p>\n",
       "</div>"
      ],
      "text/plain": [
       "                                                 product_name  department_id\n",
       "product_id                                                                  \n",
       "1                                  Chocolate Sandwich Cookies             19\n",
       "2                                            All-Seasons Salt             13\n",
       "3                        Robust Golden Unsweetened Oolong Tea              7\n",
       "4           Smart Ones Classic Favorites Mini Rigatoni Wit...              1\n",
       "5                                   Green Chile Anytime Sauce             13\n",
       "...                                                       ...            ...\n",
       "96                    Sprinklez Confetti Fun Organic Toppings             13\n",
       "97                                Organic Chamomile Lemon Tea              7\n",
       "98                                  2% Yellow American Cheese             16\n",
       "99                                Local Living Butter Lettuce              4\n",
       "100                   Peanut Butter & Strawberry Jam Sandwich              1\n",
       "\n",
       "[100 rows x 2 columns]"
      ]
     },
     "execution_count": 6,
     "metadata": {},
     "output_type": "execute_result"
    }
   ],
   "source": [
    "# LEAVE AS-IS\n",
    "\n",
    "# File names\n",
    "INPUT_PRODUCTS = \"instacart-products.csv\"\n",
    "INPUT_TRANSACTIONS = \"instacart-transactions.csv.gz\"\n",
    "\n",
    "# Read into a dataframe\n",
    "products = pd.read_csv(INPUT_PRODUCTS, delimiter=\",\")\n",
    "\n",
    "# Set product_id as index, and drop column aisle_id\n",
    "products = products.set_index('product_id').drop(columns=['aisle_id'])\n",
    "\n",
    "products.head(100)"
   ]
  },
  {
   "cell_type": "markdown",
   "metadata": {},
   "source": [
    "## 2.1. Select by department"
   ]
  },
  {
   "cell_type": "code",
   "execution_count": 7,
   "metadata": {},
   "outputs": [],
   "source": [
    "# LEAVE AS-IS\n",
    "\n",
    "DEPT_BAKERY = 3\n",
    "DEPT_VEGGIES = 4\n",
    "DEPT_ALCOHOL = 5\n",
    "DEPT_WORLD = 6\n",
    "DEPT_DRINKS = 7\n",
    "DEPT_PETS = 8\n",
    "DEPT_PHARMACY = 11\n",
    "DEPT_CLEANING = 17\n",
    "DEPT_BABIES = 18"
   ]
  },
  {
   "cell_type": "markdown",
   "metadata": {},
   "source": [
    "<font size=\"+1\" color=\"red\">Replace this cell with your code for *select_from_departments*.</font>"
   ]
  },
  {
   "cell_type": "code",
   "execution_count": 8,
   "metadata": {},
   "outputs": [],
   "source": [
    "def select_from_departments(products, products_ids, departments_ids):\n",
    "    products_in_departments = []\n",
    "    for id in products_ids:\n",
    "        id = int(id)\n",
    "        if products.loc[id].department_id in departments_ids:\n",
    "            products_in_departments.append(id)\n",
    "    return products_in_departments"
   ]
  },
  {
   "cell_type": "markdown",
   "metadata": {},
   "source": [
    "<font size=\"+1\" color=\"red\">Replace this cell with code to test your function with three different test cases. Each test case is a list of items and a list of 1, 2, or 3 departments.</font>"
   ]
  },
  {
   "cell_type": "code",
   "execution_count": 9,
   "metadata": {},
   "outputs": [
    {
     "name": "stdout",
     "output_type": "stream",
     "text": [
      "Test case 1:\n",
      "[150, 245, 812, 234, 49661, 6, 82, 47]\n",
      "\n",
      "Input products:\n",
      "150 Brut Rosé (dept 5)\n",
      "245 Poppy Seed Bagels (dept 3)\n",
      "812 Healthy Grains Oats & Honey Clusters with Toasted Coconut Gluten Free (dept 14)\n",
      "234 Tennessee Whiskey (dept 5)\n",
      "49661 Porto (dept 5)\n",
      "6 Dry Nose Oil (dept 11)\n",
      "82 All Natural 100% Apple Juice (dept 7)\n",
      "47 Onion Flavor Organic Roasted Seaweed Snack (dept 6)\n",
      "\n",
      "Selected products:\n",
      "150 Brut Rosé (dept 5)\n",
      "234 Tennessee Whiskey (dept 5)\n",
      "49661 Porto (dept 5)\n",
      "\n",
      "\n",
      "Test case 2:\n",
      "[6, 7, 52, 23, 91, 10, 11, 31, 653]\n",
      "\n",
      "Input products:\n",
      "6 Dry Nose Oil (dept 11)\n",
      "7 Pure Coconut Water With Orange (dept 7)\n",
      "52 Mirabelle Brut Rose (dept 5)\n",
      "23 Organic Turkey Burgers (dept 12)\n",
      "91 Kind Prenatal Once Daily (dept 11)\n",
      "10 Sparkling Orange Juice & Prickly Pear Beverage (dept 7)\n",
      "11 Peach Mango Juice (dept 7)\n",
      "31 White Pearl Onions (dept 4)\n",
      "653 Flax, Oat Bran & Whole Wheat Flour Tortillas (dept 3)\n",
      "\n",
      "Selected products:\n",
      "6 Dry Nose Oil (dept 11)\n",
      "7 Pure Coconut Water With Orange (dept 7)\n",
      "91 Kind Prenatal Once Daily (dept 11)\n",
      "10 Sparkling Orange Juice & Prickly Pear Beverage (dept 7)\n",
      "11 Peach Mango Juice (dept 7)\n",
      "\n",
      "\n",
      "Test case 3:\n",
      "[14, 43243, 21, 54, 321, 49686, 432]\n",
      "\n",
      "Input products:\n",
      "14 Fresh Scent Dishwasher Cleaner (dept 17)\n",
      "43243 Organic Breakfast Chicken Sausage Pattie (dept 1)\n",
      "21 Small & Medium Dental Dog Treats (dept 8)\n",
      "54 24/7 Performance Cat Litter (dept 8)\n",
      "321 Echinacea Goldenseal Alcohol Free Extract (dept 11)\n",
      "49686 Artisan Baguette (dept 3)\n",
      "432 Vanilla Almond Breeze Almond Milk (dept 16)\n",
      "\n",
      "Selected products:\n",
      "14 Fresh Scent Dishwasher Cleaner (dept 17)\n",
      "21 Small & Medium Dental Dog Treats (dept 8)\n",
      "54 24/7 Performance Cat Litter (dept 8)\n",
      "49686 Artisan Baguette (dept 3)\n"
     ]
    }
   ],
   "source": [
    "def print_test_case(products, products_ids, departments_ids, n):\n",
    "    print(f\"Test case {n}:\\n{products_ids}\\n\")\n",
    "\n",
    "    print(\"Input products:\")\n",
    "    for product_id in products_ids:\n",
    "        product_name = products.loc[product_id].product_name\n",
    "        department_id = products.loc[product_id].department_id\n",
    "        print(f\"{product_id} {product_name} (dept {department_id})\")\n",
    "\n",
    "    selected_product_ids = select_from_departments(products, products_ids, departments_ids)\n",
    "    \n",
    "    print(\"\\nSelected products:\")\n",
    "    for product_id in selected_product_ids:\n",
    "        product_name = products.loc[product_id].product_name\n",
    "        department_id = products.loc[product_id].department_id\n",
    "        print(f\"{product_id} {product_name} (dept {department_id})\")\n",
    "\n",
    "\n",
    "#Test case 1\n",
    "products_ids = [150, 245, 812, 234, 49661, 6, 82, 47]\n",
    "departments = [DEPT_ALCOHOL]\n",
    "print_test_case(products, products_ids, departments, 1)\n",
    "print(\"\\n\")\n",
    "#Test case 2\n",
    "products_ids = [6, 7, 52, 23, 91, 10, 11, 31, 653]\n",
    "departments = [DEPT_DRINKS, DEPT_PHARMACY]\n",
    "print_test_case(products, products_ids, departments, 2)\n",
    "print(\"\\n\")\n",
    "#Test case 3\n",
    "products_ids = [14, 43243, 21, 54, 321, 49686, 432]\n",
    "departments = [DEPT_BAKERY, DEPT_PETS, DEPT_CLEANING]\n",
    "print_test_case(products, products_ids, departments, 3)\n"
   ]
  },
  {
   "cell_type": "markdown",
   "metadata": {},
   "source": [
    "## 2.2. Read and filter transactions"
   ]
  },
  {
   "cell_type": "markdown",
   "metadata": {},
   "source": [
    "<font size=\"+1\" color=\"red\">Replace this cell with your code to read transactions, keeping only items in DEPT_PHARMACY. Remember to stop after storing 5000 of the transactions read.</font>"
   ]
  },
  {
   "cell_type": "code",
   "execution_count": 10,
   "metadata": {},
   "outputs": [
    {
     "name": "stdout",
     "output_type": "stream",
     "text": [
      "1000 transactions read and 102 transactions stored\n",
      "2000 transactions read and 219 transactions stored\n",
      "3000 transactions read and 313 transactions stored\n",
      "4000 transactions read and 422 transactions stored\n",
      "5000 transactions read and 526 transactions stored\n",
      "6000 transactions read and 619 transactions stored\n",
      "7000 transactions read and 722 transactions stored\n",
      "8000 transactions read and 810 transactions stored\n",
      "9000 transactions read and 920 transactions stored\n",
      "10000 transactions read and 1046 transactions stored\n",
      "11000 transactions read and 1152 transactions stored\n",
      "12000 transactions read and 1245 transactions stored\n",
      "13000 transactions read and 1352 transactions stored\n",
      "14000 transactions read and 1459 transactions stored\n",
      "15000 transactions read and 1559 transactions stored\n",
      "16000 transactions read and 1663 transactions stored\n",
      "17000 transactions read and 1753 transactions stored\n",
      "18000 transactions read and 1854 transactions stored\n",
      "19000 transactions read and 1943 transactions stored\n",
      "20000 transactions read and 2066 transactions stored\n",
      "21000 transactions read and 2184 transactions stored\n",
      "22000 transactions read and 2284 transactions stored\n",
      "23000 transactions read and 2375 transactions stored\n",
      "24000 transactions read and 2480 transactions stored\n",
      "25000 transactions read and 2588 transactions stored\n",
      "26000 transactions read and 2705 transactions stored\n",
      "27000 transactions read and 2806 transactions stored\n",
      "28000 transactions read and 2903 transactions stored\n",
      "29000 transactions read and 2999 transactions stored\n",
      "30000 transactions read and 3091 transactions stored\n",
      "31000 transactions read and 3194 transactions stored\n",
      "32000 transactions read and 3307 transactions stored\n",
      "33000 transactions read and 3408 transactions stored\n",
      "34000 transactions read and 3503 transactions stored\n",
      "35000 transactions read and 3595 transactions stored\n",
      "36000 transactions read and 3703 transactions stored\n",
      "37000 transactions read and 3813 transactions stored\n",
      "38000 transactions read and 3912 transactions stored\n",
      "39000 transactions read and 4019 transactions stored\n",
      "40000 transactions read and 4119 transactions stored\n",
      "41000 transactions read and 4210 transactions stored\n",
      "42000 transactions read and 4310 transactions stored\n",
      "43000 transactions read and 4419 transactions stored\n",
      "44000 transactions read and 4524 transactions stored\n",
      "45000 transactions read and 4633 transactions stored\n",
      "46000 transactions read and 4731 transactions stored\n",
      "47000 transactions read and 4822 transactions stored\n",
      "48000 transactions read and 4926 transactions stored\n"
     ]
    }
   ],
   "source": [
    "def extract_transactions(departments, max_transactions=5000):\n",
    "    transactions = []\n",
    "    stored = 0\n",
    "    read = 0\n",
    "    # Open a compressed file\n",
    "    with gzip.open(INPUT_TRANSACTIONS, \"rt\") as inputfile:\n",
    "        \n",
    "        # Create a CSV reader\n",
    "        reader = csv.reader(inputfile, delimiter=\",\")\n",
    "        \n",
    "        # Iterate through the CSV file\n",
    "        for row in reader:\n",
    "            # Convert to integers\n",
    "            items = [int(x) for x in row]\n",
    "            dept_items = select_from_departments(products, items, departments)\n",
    "            if (len(dept_items)>0): #keep only transactions that are non-empty\n",
    "                transactions.append(dept_items)\n",
    "                stored+=1\n",
    "            read+=1\n",
    "            if read%1000 == 0:\n",
    "                print(f\"{read} transactions read and {stored} transactions stored\")\n",
    "            if stored >= 5000:\n",
    "                break\n",
    "    return transactions\n",
    "                \n",
    "departments1 = [DEPT_PHARMACY]         \n",
    "transactions1 = extract_transactions(departments1)"
   ]
  },
  {
   "cell_type": "markdown",
   "metadata": {},
   "source": [
    "## 2.3. Extract association rules and comment on them"
   ]
  },
  {
   "cell_type": "markdown",
   "metadata": {},
   "source": [
    "<font size=\"+1\" color=\"red\">Replace this cell with your code to extract association rules from the read transactions.</font>"
   ]
  },
  {
   "cell_type": "code",
   "execution_count": 11,
   "metadata": {},
   "outputs": [
    {
     "name": "stdout",
     "output_type": "stream",
     "text": [
      "Rules involving itemset [23425, 5019]\n",
      "['Nourish & Moisturize Shampoo'] => ['Nourish+ Moisturize Conditioner'] (support=0.0006, confidence=1.00, lift=1250.00)\n",
      "['Nourish+ Moisturize Conditioner'] => ['Nourish & Moisturize Shampoo'] (support=0.0006, confidence=0.75, lift=1250.00)\n",
      "\n",
      "Rules involving itemset [11007, 5663]\n",
      "['Chocolate Energy Supplement'] => ['Chocolate Calming Supplement'] (support=0.0006, confidence=1.00, lift=1250.00)\n",
      "['Chocolate Calming Supplement'] => ['Chocolate Energy Supplement'] (support=0.0006, confidence=0.75, lift=1250.00)\n",
      "\n",
      "Rules involving itemset [42563, 10781]\n",
      "['Coconut Milk Nourishing Shampoo'] => ['Coconut Milk Nourishing Conditioner'] (support=0.0006, confidence=0.75, lift=625.00)\n",
      "\n",
      "Rules involving itemset [35224, 12246]\n",
      "['Drink It Up Coconut Milk Natural Hawaiian Shampoo'] => ['Drink It Up Coconut Milk Conditioner'] (support=0.0006, confidence=0.75, lift=340.91)\n",
      "\n",
      "Rules involving itemset [16122, 44138]\n",
      "['Plant-Based Vanilla Chai Flavor Nutritional Shake Drink Mix'] => ['All In One Coconut Almond Packet'] (support=0.0006, confidence=0.75, lift=625.00)\n",
      "\n"
     ]
    }
   ],
   "source": [
    "results = list(apriori(transactions1, min_support=0.0005, min_confidence=0.7, min_lift=1.0))\n",
    "print_apyori_output(results, products, 'product_name')"
   ]
  },
  {
   "cell_type": "markdown",
   "metadata": {},
   "source": [
    "<font size=\"+1\" color=\"red\">Replace this cell with a brief commentary on what you would recommend to the shopping app considering the extracted association rules.</font>"
   ]
  },
  {
   "cell_type": "markdown",
   "metadata": {},
   "source": [
    "I would recommend to place the shampoos and conditioners that are of the same brand one next to the other, since with a high confidence people that buy the shampoo of a determined brand they also buy the conditioner, and viceversa (for instance, The Nourish & Moisturize).\n",
    "\n",
    "I would also say that it is interesting to place all chocolate supplements together, since people who buy one of any kind seem to be likely to buy also of some other kind."
   ]
  },
  {
   "cell_type": "markdown",
   "metadata": {},
   "source": [
    "## 2.4. Extract association rules and comment on them (other departments)"
   ]
  },
  {
   "cell_type": "markdown",
   "metadata": {},
   "source": [
    "<font size=\"+1\" color=\"red\">Replace this cell with code to select a different set of departments (at least two, not DEPT_PHARMACY) and extract transactions again. Avoid replicating code when possible.</font>"
   ]
  },
  {
   "cell_type": "code",
   "execution_count": 12,
   "metadata": {},
   "outputs": [
    {
     "name": "stdout",
     "output_type": "stream",
     "text": [
      "1000 transactions read and 886 transactions stored\n",
      "2000 transactions read and 1746 transactions stored\n",
      "3000 transactions read and 2612 transactions stored\n",
      "4000 transactions read and 3492 transactions stored\n",
      "5000 transactions read and 4358 transactions stored\n"
     ]
    }
   ],
   "source": [
    "departments2 = [DEPT_VEGGIES, DEPT_DRINKS]\n",
    "transactions2 = extract_transactions(departments2)"
   ]
  },
  {
   "cell_type": "code",
   "execution_count": 13,
   "metadata": {},
   "outputs": [
    {
     "name": "stdout",
     "output_type": "stream",
     "text": [
      "Rules involving itemset [8424, 24852, 16797]\n",
      "['Broccoli Crown', 'Strawberries'] => ['Banana'] (support=0.0012, confidence=0.86, lift=4.93)\n",
      "\n",
      "Rules involving itemset [9387, 24852, 45007]\n",
      "['Granny Smith Apples', 'Organic Zucchini'] => ['Banana'] (support=0.0010, confidence=1.00, lift=5.75)\n",
      "\n",
      "Rules involving itemset [13176, 19660, 27966]\n",
      "['Spring Water', 'Organic Raspberries'] => ['Bag of Organic Bananas'] (support=0.0014, confidence=0.88, lift=6.29)\n",
      "\n",
      "Rules involving itemset [13176, 26940, 27966]\n",
      "['Organic Large Green Asparagus', 'Organic Raspberries'] => ['Bag of Organic Bananas'] (support=0.0014, confidence=0.88, lift=6.29)\n",
      "\n",
      "Rules involving itemset [22935, 24964, 16759]\n",
      "['Organic Garlic', 'Organic Carrot Bunch'] => ['Organic Yellow Onion'] (support=0.0010, confidence=1.00, lift=24.51)\n",
      "\n",
      "Rules involving itemset [28985, 24852, 16797]\n",
      "['Michigan Organic Kale', 'Strawberries'] => ['Banana'] (support=0.0018, confidence=0.90, lift=5.18)\n",
      "\n",
      "Rules involving itemset [21137, 27966, 38159]\n",
      "['Organic Raspberries', 'Organic Yellow Peaches'] => ['Organic Strawberries'] (support=0.0010, confidence=1.00, lift=10.37)\n",
      "\n",
      "Rules involving itemset [24964, 21405, 22935]\n",
      "['Organic Red Radish, Bunch', 'Organic Yellow Onion'] => ['Organic Garlic'] (support=0.0010, confidence=0.83, lift=19.84)\n",
      "\n",
      "Rules involving itemset [13176, 47209, 5876, 44359]\n",
      "['Bag of Organic Bananas', 'Organic Lemon', 'Organic Small Bunch Celery'] => ['Organic Hass Avocado'] (support=0.0010, confidence=0.83, lift=10.88)\n",
      "\n",
      "Rules involving itemset [13176, 47209, 8277, 27966]\n",
      "['Organic Hass Avocado', 'Apple Honeycrisp Organic', 'Organic Raspberries'] => ['Bag of Organic Bananas'] (support=0.0010, confidence=0.83, lift=6.00)\n",
      "\n",
      "Rules involving itemset [13176, 47209, 24964, 22935]\n",
      "['Organic Hass Avocado', 'Organic Garlic', 'Organic Yellow Onion'] => ['Bag of Organic Bananas'] (support=0.0010, confidence=0.83, lift=6.00)\n",
      "\n",
      "Rules involving itemset [13176, 30391, 44359, 22935]\n",
      "['Organic Cucumber', 'Organic Small Bunch Celery', 'Organic Yellow Onion'] => ['Bag of Organic Bananas'] (support=0.0010, confidence=0.83, lift=6.00)\n",
      "\n"
     ]
    }
   ],
   "source": [
    "results = list(apriori(transactions2, min_support=0.001, min_confidence=0.8, min_lift=1.0))\n",
    "print_apyori_output(results, products, 'product_name')"
   ]
  },
  {
   "cell_type": "markdown",
   "metadata": {},
   "source": [
    "<font size=\"+1\" color=\"red\">Replace this cell with your commentary on the obtained rules.</font>"
   ]
  },
  {
   "cell_type": "markdown",
   "metadata": {},
   "source": [
    "After trying some combinations of different departments, I have observed that there are not many relations involving different departments. However, in this case we can observe many interesting relations involving mainly the veggies department.\n",
    "\n",
    "Many people are likely to buying bananas (or bags of organics bananas) when buying any other veggie product such as avocado, apples, raspberries, broccoli, etc. Furthermore, we can see a some important relations when buying other products. Organic yellow onion is frequently bought together with organic garlic and organic carrot, which makes sense since they are products that may come together in many recipees. It is interesting to see that the organic garlic is bought together with organic yellow onion (as seen) and with organic red radish, which differs from the organic carrot that appeared in the onion relation.\n",
    "\n",
    "Finally, we can point out a strong relation between organic raspberries, organic yellow peaches and organic strawberries, where the latter is frequently bought together with the other two products."
   ]
  },
  {
   "cell_type": "markdown",
   "metadata": {},
   "source": [
    "<font size=\"+1\" color=\"red\">EXTRA POINTS</font>"
   ]
  },
  {
   "cell_type": "code",
   "execution_count": 14,
   "metadata": {},
   "outputs": [],
   "source": [
    "def print_apyori_output_diff_dept(association_results, info=False, info_key=False, dept_key=False):\n",
    "    for relation_record in association_results:\n",
    "        itemset = list(relation_record.items)\n",
    "        \n",
    "        # Consider only itemsets of two elements\n",
    "        if len(itemset) > 1: \n",
    "        \n",
    "            \n",
    "            support = relation_record.support\n",
    "\n",
    "            for rules in relation_record.ordered_statistics:\n",
    "                antecedent = list(rules.items_base)\n",
    "                consequent = list(rules.items_add)\n",
    "                \n",
    "                # If info_key is provided, map antecedent and consequent to product information\n",
    "                if info_key:\n",
    "                    antecedent_info = [info.loc[x][info_key] for x in antecedent]\n",
    "                    consequent_info = [info.loc[x][info_key] for x in consequent]\n",
    "                else:\n",
    "                    antecedent_info = antecedent\n",
    "                    consequent_info = consequent\n",
    "                \n",
    "                # If dept_key is provided, compare departments\n",
    "                if dept_key:\n",
    "                    antecedent_depts = [info.loc[x][dept_key] for x in antecedent]\n",
    "                    consequent_depts = [info.loc[x][dept_key] for x in consequent]\n",
    "                    can_print = False\n",
    "                    for dept in consequent_depts:\n",
    "                        if dept not in antecedent_depts:\n",
    "                            can_print = True\n",
    "                            \n",
    "                    if can_print==True:\n",
    "                        confidence = rules.confidence\n",
    "                        lift = rules.lift\n",
    "                        print(\"Rules involving itemset %s\" % itemset)\n",
    "                        # Print the rule details\n",
    "                        print(\"%s => %s (support=%.4f, confidence=%.2f, lift=%.2f)\" %\n",
    "                              (antecedent_info, consequent_info, support, confidence, lift))\n",
    "                        print()\n"
   ]
  },
  {
   "cell_type": "code",
   "execution_count": 15,
   "metadata": {},
   "outputs": [
    {
     "name": "stdout",
     "output_type": "stream",
     "text": [
      "1000 transactions read and 909 transactions stored\n",
      "2000 transactions read and 1793 transactions stored\n",
      "3000 transactions read and 2684 transactions stored\n",
      "4000 transactions read and 3589 transactions stored\n",
      "5000 transactions read and 4481 transactions stored\n"
     ]
    }
   ],
   "source": [
    "departments3 = [DEPT_BAKERY, DEPT_VEGGIES, DEPT_BABIES, DEPT_DRINKS]\n",
    "transactions3 = extract_transactions(departments3)"
   ]
  },
  {
   "cell_type": "code",
   "execution_count": 16,
   "metadata": {},
   "outputs": [
    {
     "name": "stdout",
     "output_type": "stream",
     "text": [
      "Rules involving itemset [24852, 9421]\n",
      "['Organic Raw Multigreen Kobmbucha'] => ['Banana'] (support=0.0012, confidence=0.55, lift=3.25)\n",
      "\n",
      "Rules involving itemset [13176, 44310]\n",
      "['Soft Pretzel Mini Buns'] => ['Bag of Organic Bananas'] (support=0.0010, confidence=0.50, lift=3.67)\n",
      "\n",
      "Rules involving itemset [13176, 49215]\n",
      "['Kids Sensible Foods Broccoli Littles'] => ['Bag of Organic Bananas'] (support=0.0018, confidence=0.50, lift=3.67)\n",
      "\n",
      "Rules involving itemset [29553, 24852]\n",
      "['Super Soft Taco Flour Tortillas'] => ['Banana'] (support=0.0012, confidence=0.67, lift=3.97)\n",
      "\n",
      "Rules involving itemset [24852, 36606]\n",
      "['Sprouted Multi-Grain Bread'] => ['Banana'] (support=0.0010, confidence=0.50, lift=2.98)\n",
      "\n",
      "Rules involving itemset [38192, 24852]\n",
      "['Pear & Mango Stage 2 Baby Food'] => ['Banana'] (support=0.0010, confidence=0.56, lift=3.31)\n",
      "\n",
      "Rules involving itemset [45948, 24852]\n",
      "['Gluten Free 7 Grain Bread'] => ['Banana'] (support=0.0018, confidence=0.53, lift=3.16)\n",
      "\n"
     ]
    }
   ],
   "source": [
    "results = list(apriori(transactions3, min_support=0.001, min_confidence=0.5, min_lift=1.0))\n",
    "print_apyori_output_diff_dept(results, products, 'product_name', 'department_id')"
   ]
  },
  {
   "cell_type": "markdown",
   "metadata": {},
   "source": [
    "It seems that again bananas and bags of organic bananas are a main character. In this case we see a strong relation between them and many bakery products. Besides, it is also correlated with the Organic Raw Multigreen Kombucha, which is in the drinks departments, and two other products from the babies department. However, and considering also results in previous exercises, we have to consider the possibility of this being a result of a general like for bananas, which are frequently bought and hence can be correlated with some products that are also bought with relative frequency. To determine with more accuracy the meaning of these rules we should develop further analysis on this topic such as frequency with which products that are now related to bananas are bought, if they are correlated to other products, etc.\n",
    "\n",
    "However, we must take into consideration that the confidence in all these relations is not very high (always <0.7), which can make us have a stronger belief in the theory presented above, since the confidence is not so strong to state without a doubt that the products are bought together systematically."
   ]
  },
  {
   "cell_type": "markdown",
   "metadata": {},
   "source": [
    "<font size=\"+2\" color=\"#003300\">I hereby declare that, except for the code provided by the course instructors, all of my code, report, and figures were produced by myself.</font>"
   ]
  }
 ],
 "metadata": {
  "kernelspec": {
   "display_name": "Python 3 (ipykernel)",
   "language": "python",
   "name": "python3"
  },
  "language_info": {
   "codemirror_mode": {
    "name": "ipython",
    "version": 3
   },
   "file_extension": ".py",
   "mimetype": "text/x-python",
   "name": "python",
   "nbconvert_exporter": "python",
   "pygments_lexer": "ipython3",
   "version": "3.12.4"
  }
 },
 "nbformat": 4,
 "nbformat_minor": 4
}
