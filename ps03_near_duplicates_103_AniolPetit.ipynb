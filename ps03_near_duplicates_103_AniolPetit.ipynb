{
 "cells": [
  {
   "cell_type": "markdown",
   "metadata": {},
   "source": [
    "# Practice Session 03: Find near-duplicates using shingling"
   ]
  },
  {
   "cell_type": "markdown",
   "metadata": {},
   "source": [
    "Author: <font color=\"blue\">Aniol Petit</font>\n",
    "\n",
    "E-mail: <font color=\"blue\">aniol.petit01@estudiant.upf.edu</font>\n",
    "\n",
    "Date: <font color=\"blue\">08/10/2024</font>"
   ]
  },
  {
   "cell_type": "code",
   "execution_count": 1,
   "metadata": {},
   "outputs": [],
   "source": [
    "import io\n",
    "import json\n",
    "import gzip\n",
    "import re\n",
    "import random\n",
    "import numpy as np\n",
    "import matplotlib.pyplot as plt\n",
    "from timeit import default_timer as timer\n",
    "\n",
    "import datetime"
   ]
  },
  {
   "cell_type": "code",
   "execution_count": 2,
   "metadata": {},
   "outputs": [
    {
     "name": "stdout",
     "output_type": "stream",
     "text": [
      "Read 1000 documents\n"
     ]
    }
   ],
   "source": [
    "# KEEP AS-IS\n",
    "\n",
    "# Input file\n",
    "INPUT_FILENAME = \"CovidLockdownCatalonia.json.gz\"\n",
    "\n",
    "# Array for storing messages\n",
    "messages = []\n",
    "\n",
    "# IMPORTANT:\n",
    "# 1. Set this to 1000 during development\n",
    "# 2. Set this to 10000 once you have completed the development, and answer part 5 with 10000\n",
    "# 3. Set this back to 1000 for delivering your code\n",
    "MAX_MESSAGES = 1000\n",
    "\n",
    "with gzip.open(INPUT_FILENAME, \"rt\", encoding=\"utf-8\") as input_file:\n",
    "    \n",
    "    messages_read = 0\n",
    "    for line in input_file:\n",
    "            \n",
    "        # Read message\n",
    "        tweet = json.loads(line)\n",
    "\n",
    "        # Keep only messages in Catalan\n",
    "        if tweet[\"lang\"] == \"ca\":\n",
    "            \n",
    "            messages_read += 1\n",
    "            \n",
    "            if messages_read <= MAX_MESSAGES:\n",
    "                author = tweet[\"user\"][\"screen_name\"]\n",
    "                message = tweet[\"full_text\"]\n",
    "                messages.append(message)\n",
    "\n",
    "print(\"Read %d documents\" % len(messages))"
   ]
  },
  {
   "cell_type": "markdown",
   "metadata": {},
   "source": [
    "# 1. Auxiliary functions"
   ]
  },
  {
   "cell_type": "markdown",
   "metadata": {},
   "source": [
    "<font size=\"+1\" color=\"red\">Replace this cell with your code for function \"jaccard_similarity\"</font>"
   ]
  },
  {
   "cell_type": "code",
   "execution_count": 3,
   "metadata": {},
   "outputs": [],
   "source": [
    "def jaccard_similarity(list1, list2):\n",
    "    set1 = set(list1)\n",
    "    set2 = set(list2)\n",
    "    \n",
    "    intersection = set1.intersection(set2)\n",
    "    union = set1.union(set2)\n",
    "    \n",
    "    if len(union) == 0:\n",
    "        return 0  # If both sets are empty, we can define similarity as 0\n",
    "        \n",
    "    return len(intersection) / len(union)"
   ]
  },
  {
   "cell_type": "markdown",
   "metadata": {},
   "source": [
    "<font size=\"+1\" color=\"red\">Replace this cell with your code testing \"jaccard_similarity\"</font>"
   ]
  },
  {
   "cell_type": "code",
   "execution_count": 4,
   "metadata": {},
   "outputs": [
    {
     "name": "stdout",
     "output_type": "stream",
     "text": [
      "Test 1 jaccard similarity: 0.5\n",
      "Test 1 passed!\n",
      "Test 2 jaccard similarity: 0.75\n",
      "Test 2 passed!\n",
      "Test 3 jaccard similarity: 0\n",
      "Test 3 passed!\n",
      "Test 4 jaccard similarity: 1.0\n",
      "Test 4 passed!\n"
     ]
    }
   ],
   "source": [
    "# Test 1: Jaccard similarity should be 0.5\n",
    "list1 = \"hola\"\n",
    "list2 = \"ho\"\n",
    "result = jaccard_similarity(list1, list2)\n",
    "print(f\"Test 1 jaccard similarity: {result}\")\n",
    "if result == .5:\n",
    "    print(\"Test 1 passed!\")\n",
    "else:\n",
    "    print(\"Test 1 failed!\")\n",
    "\n",
    "# Test 2: Jaccard similarity should be 0.75\n",
    "list1 = \"hola\"\n",
    "list2 = \"hol\"\n",
    "result = jaccard_similarity(list1, list2)\n",
    "print(f\"Test 2 jaccard similarity: {result}\")\n",
    "if result == .75:\n",
    "    print(\"Test 2 passed!\")\n",
    "else:\n",
    "    print(\"Test 2 failed!\")\n",
    "\n",
    "\n",
    "# Test 3: Jaccard similarity should be 1.0 for two empty lists\n",
    "list1 = \"\"\n",
    "list2 = \"\"\n",
    "result = jaccard_similarity(list1, list2)\n",
    "print(f\"Test 3 jaccard similarity: {result}\")\n",
    "if result == 0:\n",
    "    print(\"Test 3 passed!\")\n",
    "else:\n",
    "    print(\"Test 3 failed!\")\n",
    "\n",
    "\n",
    "# Test 4: Jaccard similarity should be 1.0 for identical lists\n",
    "list1 = \"hola\"\n",
    "list2 = \"hola\"\n",
    "result = jaccard_similarity(list1, list2)\n",
    "print(f\"Test 4 jaccard similarity: {result}\")\n",
    "if result == 1:\n",
    "    print(\"Test 4 passed!\")\n",
    "else:\n",
    "    print(\"Test 4 failed!\")\n",
    "\n",
    "\n"
   ]
  },
  {
   "cell_type": "markdown",
   "metadata": {},
   "source": [
    "<font size=\"+1\" color=\"red\">Replace this cell with your code for function \"clean\"</font>"
   ]
  },
  {
   "cell_type": "code",
   "execution_count": 5,
   "metadata": {},
   "outputs": [],
   "source": [
    "def clean(text):\n",
    "    \n",
    "    #STEP 1\n",
    "    text = re.sub(r'^RT ', '', text)\n",
    "\n",
    "    #STEP 2\n",
    "    text = text.lower()\n",
    "\n",
    "    #STEP 3\n",
    "    replacements = {'ñ': 'n', 'á': 'a', 'é': 'e', 'í': 'i', 'ó': 'o', 'ú': 'u', 'ü': 'u','à': 'a', 'è': 'e', 'ò': 'o', 'l·l': 'll', 'ç': 'c'}\n",
    "    \n",
    "    for key, value in replacements.items():\n",
    "        text = text.replace(key, value)\n",
    "\n",
    "    #STEP 4\n",
    "    text = re.sub(r'http\\S+|https\\S+', '', text)\n",
    "\n",
    "    #STEP 5\n",
    "    text = text.strip()\n",
    "\n",
    "    #STEP 6\n",
    "    text = re.sub(r'[^a-zA-Z0-9\\s]', '', text)\n",
    "\n",
    "    #STEP 7\n",
    "    text = re.sub(r'\\s+', ' ', text)\n",
    "\n",
    "    return text"
   ]
  },
  {
   "cell_type": "markdown",
   "metadata": {},
   "source": [
    "<font size=\"+1\" color=\"red\">Replace this cell with your code testing function \"clean\"</font>"
   ]
  },
  {
   "cell_type": "code",
   "execution_count": 6,
   "metadata": {},
   "outputs": [
    {
     "name": "stdout",
     "output_type": "stream",
     "text": [
      "Test Case 1:\n",
      "Original: RT Chéck this out https://example.com!\n",
      "Cleaned: check this out\n",
      "\n",
      "Test Case 2:\n",
      "Original: ¡Hola! ¿Cómo estás? Voy a la piñata.\n",
      "Cleaned: hola como estas voy a la pinata\n",
      "\n",
      "Test Case 3:\n",
      "Original: Well... this   is interesting!!\n",
      "Cleaned: well this is interesting\n",
      "\n",
      "Test Case 4:\n",
      "Original:  Hola l·l! Ràmón is here. \n",
      "Cleaned: hola ll ramon is here\n",
      "\n",
      "Test Case 5:\n",
      "Original: RT 1234 Testing URL http://test.com 5678!!\n",
      "Cleaned: 1234 testing url 5678\n",
      "\n"
     ]
    }
   ],
   "source": [
    "test_cases = [\n",
    "    \"RT Chéck this out https://example.com!\",\n",
    "    \"¡Hola! ¿Cómo estás? Voy a la piñata.\",\n",
    "    \"Well... this   is interesting!!\",\n",
    "    \" Hola l·l! Ràmón is here. \",\n",
    "    \"RT 1234 Testing URL http://test.com 5678!!\"\n",
    "]\n",
    "\n",
    "for i, test in enumerate(test_cases, 1):\n",
    "    cleaned_text = clean(test)\n",
    "    print(f\"Test Case {i}:\\nOriginal: {test}\\nCleaned: {cleaned_text}\\n\")"
   ]
  },
  {
   "cell_type": "markdown",
   "metadata": {},
   "source": [
    "# 2. Implement an n-gram extractor"
   ]
  },
  {
   "cell_type": "markdown",
   "metadata": {},
   "source": [
    "<font size=\"+1\" color=\"red\">Replace this cell with your code implementing function \"ngrams(text,size)\"</font>"
   ]
  },
  {
   "cell_type": "code",
   "execution_count": 7,
   "metadata": {},
   "outputs": [],
   "source": [
    "MIN_TOKEN_LENGTH = 3\n",
    "\n",
    "def ngrams(text, size):\n",
    "    tokens = clean(text).split()\n",
    "\n",
    "    filtered_tokens = [] \n",
    "    for token in tokens:\n",
    "        if len(token) >= MIN_TOKEN_LENGTH: \n",
    "            filtered_tokens.append(token)   \n",
    "\n",
    "    ngrams = [] \n",
    "    for i in range(len(filtered_tokens) - size + 1):\n",
    "        ngram = ' '.join(filtered_tokens[i:i + size])\n",
    "        ngrams.append(ngram)  \n",
    "\n",
    "    return ngrams\n"
   ]
  },
  {
   "cell_type": "markdown",
   "metadata": {},
   "source": [
    "<font size=\"+1\" color=\"red\">Replace this cell with your code testing function \"ngrams\"</font>"
   ]
  },
  {
   "cell_type": "code",
   "execution_count": 8,
   "metadata": {},
   "outputs": [
    {
     "name": "stdout",
     "output_type": "stream",
     "text": [
      "Clam per la suspensió dels desnonaments en plena crisi pel coronavirus https://t.co/0g1AtSELwl\n",
      "['clam per suspensio', 'per suspensio dels', 'suspensio dels desnonaments', 'dels desnonaments plena', 'desnonaments plena crisi', 'plena crisi pel', 'crisi pel coronavirus']\n"
     ]
    }
   ],
   "source": [
    "print(messages[990])\n",
    "print(ngrams(messages[990], 3))"
   ]
  },
  {
   "cell_type": "markdown",
   "metadata": {},
   "source": [
    "# 3. Estimation of brute force all-pairs method"
   ]
  },
  {
   "cell_type": "code",
   "execution_count": 9,
   "metadata": {},
   "outputs": [],
   "source": [
    "# LEAVE AS-IS\n",
    "\n",
    "def time_brute_force_similarities(messages, limit, ngram_size):\n",
    "    if limit > len(messages):\n",
    "        raise ValueError(\"Limit should be less than or equal than the number of messages\")\n",
    "        \n",
    "    # Start a timer\n",
    "    start = timer()\n",
    "\n",
    "    # Iterate through document identifiers\n",
    "    for docid1 in range(np.min([len(messages), limit])):\n",
    "\n",
    "        # Clean document 1 and extract ngrams\n",
    "        doc1 = clean(messages[docid1])\n",
    "        ngrams1 = ngrams(doc1, ngram_size)\n",
    "\n",
    "        # Iterate through document identifiers larger than doc2\n",
    "        for docid2 in range(docid1+1, np.min([len(messages), limit])):\n",
    "                         \n",
    "            # Clean document 2 and extract ngrams\n",
    "            doc2 = clean(messages[docid2])\n",
    "            ngrams2 = ngrams(doc2, ngram_size)\n",
    "\n",
    "            # Compute similarity\n",
    "            similarity = jaccard_similarity(ngrams1, ngrams2)\n",
    "\n",
    "    end = timer()\n",
    "    return(end - start)"
   ]
  },
  {
   "cell_type": "markdown",
   "metadata": {},
   "source": [
    "<font size=\"+1\" color=\"red\">Replace this cell with your code for generating the requested plot. Remember to add a title and label for the x and y axis.</font>"
   ]
  },
  {
   "cell_type": "code",
   "execution_count": 10,
   "metadata": {},
   "outputs": [
    {
     "data": {
      "image/png": "[encoded data removed]",
      "text/plain": [
       "<Figure size 640x480 with 1 Axes>"
      ]
     },
     "metadata": {},
     "output_type": "display_data"
    }
   ],
   "source": [
    "def plot_similarity_timing(messages):\n",
    "    x_vals = range(1, 1001, 200)  # Number of messages from 1 to 1001, in steps of 200\n",
    "    y_vals = []\n",
    "\n",
    "    for limit in x_vals:\n",
    "        time_taken = time_brute_force_similarities(messages, limit, ngram_size=5)\n",
    "        y_vals.append(time_taken)\n",
    "\n",
    "    # Plotting\n",
    "    plt.plot(x_vals, y_vals, marker='o', linestyle='-')\n",
    "    plt.title(\"Brute Force Similarities: Time vs Number of Messages\")\n",
    "    plt.xlabel(\"Number of Messages\")\n",
    "    plt.ylabel(\"Time (seconds)\")\n",
    "    plt.grid(True)\n",
    "    plt.show()\n",
    "\n",
    "plot_similarity_timing(messages)"
   ]
  },
  {
   "cell_type": "markdown",
   "metadata": {},
   "source": [
    "<font size=\"+1\" color=\"red\">Replace this cell with (1) a brief commmentary about what you see in this plot, and (2) your estimate for how long it would take to run the brute force similarity computations for the entire input matrix. Express your estimation in hours, minutes, and seconds. Justify precisely your calculations.</font>"
   ]
  },
  {
   "cell_type": "markdown",
   "metadata": {},
   "source": [
    "(1) We see that the plot follows sort of a quadratic shape, meaning that for short amounts of messages to check the amount of time required is very small, but as the number of messages increases the time in seconds also increases faster every time (more or less quadratically).\n",
    "\n",
    "(2)We know that the entire input matrix has 35,500 rows (messages). To compute the estimate time it would take for the brute force computations for the whole matrix, we will use the fact that, as we can see in the graph, for 500 messages we need approximately 5 seconds. We will also use the fact that the computation seems to have O(n^2) complexity, since the graph has sort of a quadratic form as we stated previously. Hence, we can find in the first place how much longer does it take to compute 35500 messages than 500 messages by doing a simple proportion and squaring it (since the graphic grows quadratically): scale = (35500/500)^2 = 5041. \n",
    "Then to compute the time fot the whole matrix, we just need to multiply the time it took to process 500 messages (5 seconds) by the number of times that it will take longer to process al 35500 messages.\n",
    "Total time = 5 seconds x 5041 = 25205 seconds, or 7 hours 0 minutes and 5 seconds"
   ]
  },
  {
   "cell_type": "markdown",
   "metadata": {},
   "source": [
    "# 4. Computing the doc-ngram matrix"
   ]
  },
  {
   "cell_type": "markdown",
   "metadata": {},
   "source": [
    "## 4.1 Create list of all ngrams"
   ]
  },
  {
   "cell_type": "markdown",
   "metadata": {},
   "source": [
    "<font size=\"+1\" color=\"red\">Replace this cell with your code for creating the ngram_to_index dictionary.</font>"
   ]
  },
  {
   "cell_type": "code",
   "execution_count": 11,
   "metadata": {},
   "outputs": [
    {
     "name": "stdout",
     "output_type": "stream",
     "text": [
      "There are 8070 distinct ngrams in the 1000 documents\n",
      "\n",
      "Sample of ngram_to_index dictionary (first 10 items):\n",
      "Ngram: 'aramateix gestio del telefon' -> Index: 0\n",
      "Ngram: 'gestio del telefon datencio' -> Index: 1\n",
      "Ngram: 'del telefon datencio 061' -> Index: 2\n",
      "Ngram: 'telefon datencio 061 depen' -> Index: 3\n",
      "Ngram: 'datencio 061 depen ferrovial' -> Index: 4\n",
      "Ngram: '061 depen ferrovial decisio' -> Index: 5\n",
      "Ngram: 'depen ferrovial decisio del' -> Index: 6\n",
      "Ngram: 'ferrovial decisio del govern' -> Index: 7\n",
      "Ngram: 'decisio del govern modifica' -> Index: 8\n",
      "Ngram: 'del govern modifica aixo' -> Index: 9\n",
      "\n",
      "Sample of index_to_ngram dictionary (first 10 items):\n",
      "Index: 0 -> Ngram: 'aramateix gestio del telefon'\n",
      "Index: 1 -> Ngram: 'gestio del telefon datencio'\n",
      "Index: 2 -> Ngram: 'del telefon datencio 061'\n",
      "Index: 3 -> Ngram: 'telefon datencio 061 depen'\n",
      "Index: 4 -> Ngram: 'datencio 061 depen ferrovial'\n",
      "Index: 5 -> Ngram: '061 depen ferrovial decisio'\n",
      "Index: 6 -> Ngram: 'depen ferrovial decisio del'\n",
      "Index: 7 -> Ngram: 'ferrovial decisio del govern'\n",
      "Index: 8 -> Ngram: 'decisio del govern modifica'\n",
      "Index: 9 -> Ngram: 'del govern modifica aixo'\n"
     ]
    }
   ],
   "source": [
    "NGRAM_SIZE = 4\n",
    "ngram_to_index = {}\n",
    "index_to_ngram = {}\n",
    "next_index = 0\n",
    "\n",
    "for message in messages:\n",
    "    all_ngrams = ngrams(message, NGRAM_SIZE)\n",
    "    for ngram in all_ngrams:\n",
    "        if ngram not in ngram_to_index:\n",
    "            ngram_to_index[ngram] = next_index\n",
    "            index_to_ngram[next_index] = ngram\n",
    "            next_index += 1\n",
    "\n",
    "num_distinct_ngrams = next_index\n",
    "\n",
    "print(\"There are %d distinct ngrams in the %d documents\" % (num_distinct_ngrams, len(messages)))\n",
    "\n",
    "print(\"\\nSample of ngram_to_index dictionary (first 10 items):\")\n",
    "for i, (ngram, index) in enumerate(ngram_to_index.items()):\n",
    "    if i >= 10:\n",
    "        break\n",
    "    print(f\"Ngram: '{ngram}' -> Index: {index}\")\n",
    "\n",
    "print(\"\\nSample of index_to_ngram dictionary (first 10 items):\")\n",
    "for i in range(min(10, len(index_to_ngram))):\n",
    "    print(f\"Index: {i} -> Ngram: '{index_to_ngram[i]}'\")"
   ]
  },
  {
   "cell_type": "markdown",
   "metadata": {},
   "source": [
    "<font size=\"+1\" color=\"red\">Replace this cell with your code for testing the ngram_to_index structure.</font>"
   ]
  },
  {
   "cell_type": "code",
   "execution_count": 12,
   "metadata": {},
   "outputs": [
    {
     "name": "stdout",
     "output_type": "stream",
     "text": [
      "Index for string -els restaurants han de reduir-: 14\n",
      "Index for string -supera fins tot mateix-: 36\n",
      "String for index 14: els restaurants han reduir\n",
      "String for index 36: supera fins tot mateix\n"
     ]
    }
   ],
   "source": [
    "idx1 = ngram_to_index[\"els restaurants han reduir\"]\n",
    "print(f\"Index for string -els restaurants han de reduir-: {idx1}\")\n",
    "idx2 = ngram_to_index[\"supera fins tot mateix\"]\n",
    "print(f\"Index for string -supera fins tot mateix-: {idx2}\")\n",
    "print(f\"String for index {idx1}: {index_to_ngram[idx1]}\")\n",
    "print(f\"String for index {idx2}: {index_to_ngram[idx2]}\")"
   ]
  },
  {
   "cell_type": "markdown",
   "metadata": {},
   "source": [
    "## 2.2 Create table ngrams x documents"
   ]
  },
  {
   "cell_type": "code",
   "execution_count": 13,
   "metadata": {},
   "outputs": [
    {
     "name": "stdout",
     "output_type": "stream",
     "text": [
      "Matrix dimensions: 8070 rows (distinct shingles) x 1000 columns (distinct documents)\n"
     ]
    }
   ],
   "source": [
    "# LEAVE AS-IS\n",
    "\n",
    "# Create dense matrix in which every cell contains the value \"False\"\n",
    "M_ngram_doc = np.full((num_distinct_ngrams, len(messages)), False)\n",
    "\n",
    "# Print the number of rows and columns of this matrix\n",
    "# numpy.matrix.shape is a tuple, shape[0] is the number of rows, shape[1] the number of columns\n",
    "print(\"Matrix dimensions: %d rows (distinct shingles) x %d columns (distinct documents)\" % M_ngram_doc.shape)"
   ]
  },
  {
   "cell_type": "markdown",
   "metadata": {},
   "source": [
    "<font size=\"+1\" color=\"red\">Replace this cell with your code for filling the M_ngram_doc matrix.</font>"
   ]
  },
  {
   "cell_type": "code",
   "execution_count": 14,
   "metadata": {},
   "outputs": [],
   "source": [
    "for docid in range(len(messages)):\n",
    "    message = messages[docid]\n",
    "    all_ngrams = ngrams(message, NGRAM_SIZE)\n",
    "    \n",
    "    for ngram in all_ngrams:\n",
    "        if ngram in ngram_to_index:\n",
    "            ngram_index = ngram_to_index[ngram]\n",
    "            M_ngram_doc[ngram_index, docid] = True\n",
    "\n"
   ]
  },
  {
   "cell_type": "markdown",
   "metadata": {},
   "source": [
    "<font size=\"+1\" color=\"red\">Replace this cell with your code for printing the density of the M_ngram_doc matrix as a percentage. Use 4 decimals.</font>"
   ]
  },
  {
   "cell_type": "code",
   "execution_count": 15,
   "metadata": {},
   "outputs": [
    {
     "name": "stdout",
     "output_type": "stream",
     "text": [
      "Density of the matrix: 0.1395%\n"
     ]
    }
   ],
   "source": [
    "total_cells = M_ngram_doc.shape[0] * M_ngram_doc.shape[1]\n",
    "non_zero_cells = np.count_nonzero(M_ngram_doc)\n",
    "density_percentage = (non_zero_cells / total_cells) * 100\n",
    "\n",
    "# Print the density percentage with 4 decimals\n",
    "print(f\"Density of the matrix: {density_percentage:.4f}%\")"
   ]
  },
  {
   "cell_type": "markdown",
   "metadata": {},
   "source": [
    "<font size=\"+1\" color=\"red\">Replace this cell with your code for printing rows 9602 and 941 of the M_ngram_doc matrix. (I'll do docid 16 instead of 9602 since there are not that many documents)</font>"
   ]
  },
  {
   "cell_type": "code",
   "execution_count": 16,
   "metadata": {},
   "outputs": [
    {
     "name": "stdout",
     "output_type": "stream",
     "text": [
      "\n",
      "Positions of non-zeros in column of docid 16 of M_ngram_doc\n",
      "\n",
      "Clean message:\n",
      " emergenciescat es demana a la ciutadania limitar al maxim i si es pot evitar desplacaments de cap de setmana tot el que sigui ma\n",
      "\n",
      "Non-zeros in corresponding row:\n",
      " ['178 (emergenciescat demana ciutadania limitar)', '179 (demana ciutadania limitar maxim)', '180 (ciutadania limitar maxim pot)', '181 (limitar maxim pot evitar)', '182 (maxim pot evitar desplacaments)', '183 (pot evitar desplacaments cap)', '184 (evitar desplacaments cap setmana)', '185 (desplacaments cap setmana tot)', '186 (cap setmana tot que)', '187 (setmana tot que sigui)']\n",
      "\n",
      "Positions of non-zeros in column of docid 941 of M_ngram_doc\n",
      "\n",
      "Clean message:\n",
      " hospiolot usem de forma responsable els recursos sanitaris 061 urgencies per coronavirus i sanitaries 012 consultes general\n",
      "\n",
      "Non-zeros in corresponding row:\n",
      " ['1065 (usem forma responsable els)', '1066 (forma responsable els recursos)', '1067 (responsable els recursos sanitaris)', '1068 (els recursos sanitaris 061)', '1069 (recursos sanitaris 061 urgencies)', '1070 (sanitaris 061 urgencies per)', '1071 (061 urgencies per coronavirus)', '1072 (urgencies per coronavirus sanitaries)', '1073 (per coronavirus sanitaries 012)', '1074 (coronavirus sanitaries 012 consultes)', '7796 (hospiolot usem forma responsable)', '7797 (sanitaries 012 consultes general)']\n"
     ]
    }
   ],
   "source": [
    "def print_non_zeros(docid):\n",
    "    if docid >= len(messages):\n",
    "        print(f\"Document {docid} is out of bounds!\")\n",
    "        return\n",
    "    \n",
    "    clean_message = clean(messages[docid])\n",
    "    \n",
    "    non_zero_rows = np.where(M_ngram_doc[:, docid])[0]\n",
    "    \n",
    "    print(f\"\\nPositions of non-zeros in column of docid {docid} of M_ngram_doc\\n\")\n",
    "    print(f\"Clean message:\\n {clean_message}\\n\")\n",
    "    \n",
    "    non_zeros = [f\"{row} ({index_to_ngram[row]})\" for row in non_zero_rows]\n",
    "    \n",
    "    print(f\"Non-zeros in corresponding row:\\n {non_zeros}\")\n",
    "\n",
    "\n",
    "print_non_zeros(16)\n",
    "print_non_zeros(941)"
   ]
  },
  {
   "cell_type": "markdown",
   "metadata": {},
   "source": [
    "# 3. Implement a permutation generator"
   ]
  },
  {
   "cell_type": "markdown",
   "metadata": {},
   "source": [
    "<font size=\"+1\" color=\"red\">Replace this cell with your code for \"random_permutation\"</font>"
   ]
  },
  {
   "cell_type": "code",
   "execution_count": 17,
   "metadata": {},
   "outputs": [
    {
     "name": "stdout",
     "output_type": "stream",
     "text": [
      "[19, 15, 18, 9, 4, 1, 5, 6, 10, 13, 7, 14, 17, 12, 16, 8, 2, 11, 0, 3]\n"
     ]
    }
   ],
   "source": [
    "def random_permutation(k):\n",
    "    arr = list(range(k))  \n",
    "    random.shuffle(arr)    \n",
    "    return arr\n",
    "\n",
    "permutation = random_permutation(20)\n",
    "print(permutation)"
   ]
  },
  {
   "cell_type": "code",
   "execution_count": 18,
   "metadata": {},
   "outputs": [
    {
     "name": "stdout",
     "output_type": "stream",
     "text": [
      "Test one permutation:\n",
      "['1 (test1)', '4 (test4)', '3 (test3)', '5 (test5)', '2 (test2)']\n",
      "['1 (alpha)', '4 (delta)', '3 (beta)', '5 (epsilon)', '2 (gamma)']\n",
      "\n",
      "Test another permutation\n",
      "['4 (test4)', '1 (test1)', '5 (test5)', '2 (test2)', '3 (test3)']\n",
      "['4 (delta)', '1 (alpha)', '5 (epsilon)', '2 (gamma)', '3 (beta)']\n"
     ]
    }
   ],
   "source": [
    "# LEAVE AS-IS\n",
    "\n",
    "# Permute a list according to a permutation\n",
    "def permuter(original_list, permutation):\n",
    "    permuted_list = []\n",
    "    for index in permutation:\n",
    "        permuted_list.append(original_list[index])\n",
    "    return permuted_list\n",
    "\n",
    "# Code for testing permutations\n",
    "original_list_1 = [\"1 (test1)\", \"2 (test2)\", \"3 (test3)\", \"4 (test4)\", \"5 (test5)\"]\n",
    "original_list_2 = [\"1 (alpha)\", \"2 (gamma)\", \"3 (beta)\", \"4 (delta)\", \"5 (epsilon)\"]\n",
    "\n",
    "print(\"Test one permutation:\")\n",
    "permutation_1 = random_permutation(5)\n",
    "print(permuter(original_list_1, permutation_1))\n",
    "print(permuter(original_list_2, permutation_1))\n",
    "\n",
    "print()\n",
    "\n",
    "print(\"Test another permutation\")\n",
    "permutation_2 = random_permutation(5)\n",
    "print(permuter(original_list_1, permutation_2))\n",
    "print(permuter(original_list_2, permutation_2))"
   ]
  },
  {
   "cell_type": "markdown",
   "metadata": {},
   "source": [
    "# 4. Compute the signature of each document"
   ]
  },
  {
   "cell_type": "code",
   "execution_count": 19,
   "metadata": {},
   "outputs": [
    {
     "name": "stdout",
     "output_type": "stream",
     "text": [
      "Permutation 0: 1616, 1235, 210, 4367, ...\n",
      "Permutation 1: 507, 6840, 2049, 120, ...\n",
      "Permutation 2: 156, 4315, 7167, 4647, ...\n",
      "Permutation 3: 6050, 389, 4047, 4770, ...\n",
      "Permutation 4: 5931, 3243, 7986, 5486, ...\n"
     ]
    }
   ],
   "source": [
    "# Leave this code as-is\n",
    "\n",
    "NUM_PERMUTATIONS = 5\n",
    "\n",
    "permutations = []\n",
    "\n",
    "# Create the permutations\n",
    "for i in range(NUM_PERMUTATIONS):\n",
    "    permutation = random_permutation(num_distinct_ngrams)\n",
    "    permutations.append(random_permutation(num_distinct_ngrams))\n",
    "    \n",
    "# Visualize the permutations by printing their first 4 elements\n",
    "for i in range(len(permutations)):\n",
    "    permutation = permutations[i]\n",
    "    print(\"Permutation %d: %d, %d, %d, %d, ...\" % (i,\n",
    "                permutation[0], permutation[1], permutation[2], permutation[3] ))"
   ]
  },
  {
   "cell_type": "code",
   "execution_count": 20,
   "metadata": {},
   "outputs": [],
   "source": [
    "# LEAVE AS-IS\n",
    "\n",
    "# Find the first ngram in a document, according to a permutation\n",
    "def find_first_one(docid, permutation):\n",
    "    for shingle_id in permutation:\n",
    "        if M_ngram_doc[shingle_id, docid] == True:\n",
    "            return shingle_id\n",
    "    return -1"
   ]
  },
  {
   "cell_type": "markdown",
   "metadata": {},
   "source": [
    "<font size=\"+1\" color=\"red\">Replace this cell with your code for creating M_signature_doc</font>"
   ]
  },
  {
   "cell_type": "code",
   "execution_count": 21,
   "metadata": {},
   "outputs": [
    {
     "name": "stdout",
     "output_type": "stream",
     "text": [
      "Creating signatures for permutation 1/5\n",
      "- Scanning document 0 of 1000\n",
      "Creating signatures for permutation 2/5\n",
      "- Scanning document 0 of 1000\n",
      "Creating signatures for permutation 3/5\n",
      "- Scanning document 0 of 1000\n",
      "Creating signatures for permutation 4/5\n",
      "- Scanning document 0 of 1000\n",
      "Creating signatures for permutation 5/5\n",
      "- Scanning document 0 of 1000\n"
     ]
    }
   ],
   "source": [
    "M_signature_doc = np.full((NUM_PERMUTATIONS, len(messages)), np.nan)\n",
    "\n",
    "for permutation_num in range(NUM_PERMUTATIONS):\n",
    "    print(\"Creating signatures for permutation %d/%d\" % (permutation_num + 1, NUM_PERMUTATIONS))\n",
    "    permutation = permutations[permutation_num]\n",
    "    \n",
    "    for docid in range(len(messages)):\n",
    "        if docid % 1000 == 0:\n",
    "            print(\"- Scanning document %d of %d\" % (docid, len(messages)))\n",
    "        \n",
    "        first_ngram_id = find_first_one(docid, permutation)\n",
    "        \n",
    "        M_signature_doc[permutation_num, docid] = first_ngram_id"
   ]
  },
  {
   "cell_type": "code",
   "execution_count": 22,
   "metadata": {},
   "outputs": [
    {
     "name": "stdout",
     "output_type": "stream",
     "text": [
      "Document #21\n",
      "Message       : El problema és económic... ja no és només que primi lo económic a lo personal, és que fins i tot en això el @govern s'equivoca, doncs al final la factura que s'haurà de pagar serà més gran.... ja és més gran del que hauria sigut de fer les coses bé i a temps. https://t.co/jFXHAMZHO0\n",
      "Clean message : el problema es economic ja no es nomes que primi lo economic a lo personal es que fins i tot en aixo el govern sequivoca doncs al final la factura que shaura de pagar sera mes gran ja es mes gran del que hauria sigut de fer les coses be i a temps\n",
      "Ngrams        : [231, 232, 233, 234, 235, 236, 237, 238, 239, 240, 241, 242, 243, 244, 245, 246, 247, 248, 249, 250, 251, 252, 253, 254, 255, 256, 257, 258, 259]\n",
      "Signature     : [239.0, 257.0, 239.0, 258.0, 250.0]\n",
      "\n",
      "Document #24\n",
      "Message       : RT @QuimTorraiPla: Seguiu les recomanacions: eviteu qualsevol desplaçament al màxim\n",
      "Clean message : quimtorraipla seguiu les recomanacions eviteu qualsevol desplacament al maxim\n",
      "Ngrams        : [279, 280, 281, 282, 283]\n",
      "Signature     : [280.0, 283.0, 279.0, 280.0, 283.0]\n"
     ]
    }
   ],
   "source": [
    "# Leave this code as-is\n",
    "\n",
    "def extract_ngrams(docid):\n",
    "    return [x for x in range(num_distinct_ngrams) if M_ngram_doc[x, docid] == True]\n",
    "\n",
    "def extract_signature(docid):\n",
    "    return [M_signature_doc[x, docid] for x in range(NUM_PERMUTATIONS)]\n",
    "\n",
    "def print_sig(messages, M_ngram_doc, M_signature_doc, i):\n",
    "    print(\"Document #%d\" % i)\n",
    "    print(\"Message       : %s\" % messages[i])\n",
    "    print(\"Clean message : %s\" % clean(messages[i]))\n",
    "    print(\"Ngrams        : %s\" % extract_ngrams(i))\n",
    "    print(\"Signature     : %s\" % extract_signature(i))\n",
    "\n",
    "# Print two messages and their signatures\n",
    "\n",
    "print_sig(messages, M_ngram_doc, M_signature_doc, 21 )\n",
    "print()\n",
    "print_sig(messages, M_ngram_doc, M_signature_doc, 24 )"
   ]
  },
  {
   "cell_type": "markdown",
   "metadata": {},
   "source": [
    "# 5. Compare all pairs of signatures"
   ]
  },
  {
   "cell_type": "markdown",
   "metadata": {},
   "source": [
    "<font size=\"+1\" color=\"red\">Replace this cell with your code for comparing all signatures; print all documents that have at least X signature matches, considering both full matches and partial matches. X should be 0.5% of the  number of documents.</font>"
   ]
  },
  {
   "cell_type": "code",
   "execution_count": 23,
   "metadata": {},
   "outputs": [
    {
     "name": "stdout",
     "output_type": "stream",
     "text": [
      "0/1000 documents scanned\n",
      "Document 2 has 5 full matches and 0 partial matches.\n",
      "Partial Match: 9 and 776\n",
      "Partial Match: 10 and 799\n",
      "Partial Match: 13 and 133\n",
      "Partial Match: 13 and 555\n",
      "Partial Match: 14 and 380\n",
      "Document 16 has 6 full matches and 0 partial matches.\n",
      "Partial Match: 19 and 20\n",
      "Partial Match: 19 and 72\n",
      "Partial Match: 19 and 89\n",
      "Partial Match: 19 and 141\n",
      "Partial Match: 19 and 156\n",
      "Partial Match: 19 and 226\n",
      "Partial Match: 19 and 394\n",
      "Partial Match: 19 and 584\n",
      "Partial Match: 19 and 629\n",
      "Partial Match: 19 and 742\n",
      "Partial Match: 19 and 782\n",
      "Partial Match: 19 and 981\n",
      "Partial Match: 19 and 989\n",
      "Document 19 has 0 full matches and 13 partial matches.\n",
      "Document 22 has 7 full matches and 0 partial matches.\n",
      "Partial Match: 32 and 98\n",
      "Partial Match: 32 and 213\n",
      "Partial Match: 32 and 697\n",
      "Partial Match: 32 and 734\n",
      "Partial Match: 32 and 785\n",
      "Partial Match: 32 and 797\n",
      "Document 32 has 5 full matches and 6 partial matches.\n",
      "Document 42 has 8 full matches and 0 partial matches.\n",
      "Document 53 has 5 full matches and 0 partial matches.\n",
      "Partial Match: 73 and 147\n",
      "Partial Match: 73 and 148\n",
      "Partial Match: 73 and 647\n",
      "Document 73 has 2 full matches and 3 partial matches.\n",
      "Document 83 has 15 full matches and 0 partial matches.\n",
      "Document 95 has 9 full matches and 0 partial matches.\n",
      "Document 104 has 7 full matches and 0 partial matches.\n",
      "Partial Match: 165 and 177\n",
      "Document 166 has 13 full matches and 0 partial matches.\n",
      "Document 175 has 6 full matches and 0 partial matches.\n",
      "Partial Match: 182 and 186\n",
      "Document 212 has 5 full matches and 0 partial matches.\n",
      "Document 222 has 5 full matches and 0 partial matches.\n",
      "Partial Match: 228 and 835\n",
      "Partial Match: 228 and 929\n",
      "Document 249 has 8 full matches and 0 partial matches.\n",
      "Partial Match: 287 and 844\n",
      "Partial Match: 306 and 452\n",
      "Partial Match: 321 and 996\n",
      "Partial Match: 327 and 995\n",
      "Document 328 has 7 full matches and 0 partial matches.\n",
      "Partial Match: 385 and 395\n",
      "Partial Match: 385 and 627\n",
      "Document 385 has 7 full matches and 2 partial matches.\n",
      "500/1000 documents scanned\n",
      "Partial Match: 507 and 879\n",
      "Partial Match: 548 and 572\n",
      "Partial Match: 864 and 922\n"
     ]
    }
   ],
   "source": [
    "is_possible_duplicate = {}\n",
    "\n",
    "threshold = 0.005 * len(messages)\n",
    "\n",
    "for docid1 in range(len(messages)):\n",
    "    if docid1 not in is_possible_duplicate:\n",
    "        count_sig_full_matches = 0\n",
    "        count_sig_partial_matches = 0\n",
    "\n",
    "        signature1 = extract_signature(docid1)\n",
    "        if docid1 % 500 == 0:\n",
    "            print(\"%d/%d documents scanned\" % (docid1, len(messages)))\n",
    "\n",
    "        for docid2 in range(docid1 + 1, len(messages)):\n",
    "            if docid2 not in is_possible_duplicate:\n",
    "                signature2 = extract_signature(docid2)\n",
    "\n",
    "                similarity = jaccard_similarity(signature1, signature2)\n",
    "\n",
    "                if similarity == 1.0:\n",
    "                    count_sig_full_matches += 1\n",
    "                    is_possible_duplicate[docid2] = True  \n",
    "                elif 0.2 < similarity < 1.0:\n",
    "                    count_sig_partial_matches += 1\n",
    "                    is_possible_duplicate[docid2] = True  \n",
    "                    print(f\"Partial Match: {docid1} and {docid2}\")  #Print the partial match so to find the similar messages\n",
    "\n",
    "        if (count_sig_full_matches + count_sig_partial_matches >= threshold) or (count_sig_partial_matches>=15): #print some with many partial matches, otherwise there are no cases of documents with many partial matches that are above threshold\n",
    "            print(f\"Document {docid1} has {count_sig_full_matches} full matches and {count_sig_partial_matches} partial matches.\")\n",
    "            "
   ]
  },
  {
   "cell_type": "markdown",
   "metadata": {},
   "source": [
    "<font size=\"+1\" color=\"red\">Replace this cell with a brief commentary, based on the results above, about one tweet that has a substantial number of complete matches, but few partial matches. Include the full text of the original tweet. Comment on why you believe this tweet is not being changed much when copied or re-tweeted.</font>"
   ]
  },
  {
   "cell_type": "markdown",
   "metadata": {},
   "source": [
    "I take document 5077, with 176 full matches and 0 partial matches. Its clean message is: emergenciescat que puc fer i que no faqs del coronavirus a 14 de marc si us plau demanem difusio.\n",
    "Looking at the content of the tweet it is normal that people do not change it much when reposting it, since it is an urgent message directed to the emergency service of Catalunya asking for instructions on what to do about coronavirus in its peak moment, hence it was a time where people were confused and needed to be very direct and concise when asking for information. Furthermore, the original tweet asks for difusion, which leads to readers to just re-tweet it straight forward without further changes, since the original author already said everything that's important and just needs its message to reach the most people possible, not its message being modified."
   ]
  },
  {
   "cell_type": "markdown",
   "metadata": {},
   "source": [
    "<font size=\"+1\" color=\"red\">Replace this cell with a brief commentary, based on the results above, about one tweet that has a substantial number of partial matches, but fewer complete matches. Include the full text of the original tweet and one near duplicate (that cannot be identical to the original tweet).</font>"
   ]
  },
  {
   "cell_type": "code",
   "execution_count": 25,
   "metadata": {},
   "outputs": [
    {
     "data": {
      "text/plain": [
       "'diariara dinamarca tanca les seves fronteres per evitar la propagacio del coronavirus'"
      ]
     },
     "execution_count": 25,
     "metadata": {},
     "output_type": "execute_result"
    }
   ],
   "source": [
    "clean(messages[89])"
   ]
  },
  {
   "cell_type": "code",
   "execution_count": 26,
   "metadata": {},
   "outputs": [
    {
     "data": {
      "text/plain": [
       "'salutcat ultimes mesures de prevencio per evitar la propagacio del coronavirus sarscov2 '"
      ]
     },
     "execution_count": 26,
     "metadata": {},
     "output_type": "execute_result"
    }
   ],
   "source": [
    "clean(messages[226])"
   ]
  },
  {
   "cell_type": "markdown",
   "metadata": {},
   "source": [
    "I take document 89, with 0 full matches and 16 partial matches. Its clean message is: diariara dinamarca tanca les seves fronteres per evitar la propagacio del coronavirus. \n",
    "In this case it makes sense that the message has many partial matches but no total matches since it is an informative message, unlike the first one which was rather a message to raise concern and asking for help. It is known that informative messages when propagated are a bit changed, people that want to report the new they've read they tell it their own way, not with the exact same words than the original author, but with their own words, which can be a cause for which it has partial matches.\n",
    "Another reason for that can be the fact that is talking about coronavirus propagation, and many messages may tell similar things but in a different context, as message 89 is talking about Denmark closing its borders to avoid covid propagation, but we can see another message that accounts as a partial match to message 89 (message 226:salutcat ultimes mesures de prevencio per evitar la propagacio del coronavirus sarscov2), which is talking about coronavirus propagation but makes no reference to Denmark, hence this is clearly another reason why this message has partial matches, because it is about a subject that's very broad and can be included in many different context. "
   ]
  },
  {
   "cell_type": "markdown",
   "metadata": {},
   "source": [
    "<font size=\"+2\" color=\"#003300\">I hereby declare that, except for the code provided by the course instructors, all of my code, report, and figures were produced by myself.</font>"
   ]
  }
 ],
 "metadata": {
  "kernelspec": {
   "display_name": "Python 3 (ipykernel)",
   "language": "python",
   "name": "python3"
  },
  "language_info": {
   "codemirror_mode": {
    "name": "ipython",
    "version": 3
   },
   "file_extension": ".py",
   "mimetype": "text/x-python",
   "name": "python",
   "nbconvert_exporter": "python",
   "pygments_lexer": "ipython3",
   "version": "3.12.4"
  }
 },
 "nbformat": 4,
 "nbformat_minor": 4
}
